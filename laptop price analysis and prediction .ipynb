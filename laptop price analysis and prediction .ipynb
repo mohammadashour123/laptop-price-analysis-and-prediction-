{
 "cells": [
  {
   "cell_type": "markdown",
   "id": "41621156",
   "metadata": {},
   "source": [
    "# About this Dataset\n",
    "\n",
    "## Context\n",
    "A dataset for 1300 laptop models.\n",
    "\n",
    "## Content\n",
    "* Company Name\n",
    "* Product Name\n",
    "* Laptop Type\n",
    "* Screen Inches\n",
    "* Screen Resolution\n",
    "* CPU Model\n",
    "* RAM Characteristics\n",
    "* Memory\n",
    "* GPU Characteristics\n",
    "* Operating System\n",
    "* Laptop's Weight\n",
    "Laptop's Price"
   ]
  },
  {
   "cell_type": "code",
   "execution_count": 1,
   "id": "8b5f337c",
   "metadata": {},
   "outputs": [],
   "source": [
    "import numpy as np\n",
    "import pandas as pd\n",
    "import matplotlib.pyplot as plt\n",
    "import seaborn as sns"
   ]
  },
  {
   "cell_type": "code",
   "execution_count": 2,
   "id": "5a06aeb4",
   "metadata": {},
   "outputs": [],
   "source": [
    "data = pd.read_csv('laptop_data.csv')"
   ]
  },
  {
   "cell_type": "code",
   "execution_count": 3,
   "id": "d164d4be",
   "metadata": {},
   "outputs": [
    {
     "data": {
      "text/html": [
       "<div>\n",
       "<style scoped>\n",
       "    .dataframe tbody tr th:only-of-type {\n",
       "        vertical-align: middle;\n",
       "    }\n",
       "\n",
       "    .dataframe tbody tr th {\n",
       "        vertical-align: top;\n",
       "    }\n",
       "\n",
       "    .dataframe thead th {\n",
       "        text-align: right;\n",
       "    }\n",
       "</style>\n",
       "<table border=\"1\" class=\"dataframe\">\n",
       "  <thead>\n",
       "    <tr style=\"text-align: right;\">\n",
       "      <th></th>\n",
       "      <th>Unnamed: 0</th>\n",
       "      <th>Company</th>\n",
       "      <th>TypeName</th>\n",
       "      <th>Inches</th>\n",
       "      <th>ScreenResolution</th>\n",
       "      <th>Cpu</th>\n",
       "      <th>Ram</th>\n",
       "      <th>Memory</th>\n",
       "      <th>Gpu</th>\n",
       "      <th>OpSys</th>\n",
       "      <th>Weight</th>\n",
       "      <th>Price</th>\n",
       "    </tr>\n",
       "  </thead>\n",
       "  <tbody>\n",
       "    <tr>\n",
       "      <th>0</th>\n",
       "      <td>0</td>\n",
       "      <td>Apple</td>\n",
       "      <td>Ultrabook</td>\n",
       "      <td>13.3</td>\n",
       "      <td>IPS Panel Retina Display 2560x1600</td>\n",
       "      <td>Intel Core i5 2.3GHz</td>\n",
       "      <td>8GB</td>\n",
       "      <td>128GB SSD</td>\n",
       "      <td>Intel Iris Plus Graphics 640</td>\n",
       "      <td>macOS</td>\n",
       "      <td>1.37kg</td>\n",
       "      <td>71378.6832</td>\n",
       "    </tr>\n",
       "    <tr>\n",
       "      <th>1</th>\n",
       "      <td>1</td>\n",
       "      <td>Apple</td>\n",
       "      <td>Ultrabook</td>\n",
       "      <td>13.3</td>\n",
       "      <td>1440x900</td>\n",
       "      <td>Intel Core i5 1.8GHz</td>\n",
       "      <td>8GB</td>\n",
       "      <td>128GB Flash Storage</td>\n",
       "      <td>Intel HD Graphics 6000</td>\n",
       "      <td>macOS</td>\n",
       "      <td>1.34kg</td>\n",
       "      <td>47895.5232</td>\n",
       "    </tr>\n",
       "    <tr>\n",
       "      <th>2</th>\n",
       "      <td>2</td>\n",
       "      <td>HP</td>\n",
       "      <td>Notebook</td>\n",
       "      <td>15.6</td>\n",
       "      <td>Full HD 1920x1080</td>\n",
       "      <td>Intel Core i5 7200U 2.5GHz</td>\n",
       "      <td>8GB</td>\n",
       "      <td>256GB SSD</td>\n",
       "      <td>Intel HD Graphics 620</td>\n",
       "      <td>No OS</td>\n",
       "      <td>1.86kg</td>\n",
       "      <td>30636.0000</td>\n",
       "    </tr>\n",
       "    <tr>\n",
       "      <th>3</th>\n",
       "      <td>3</td>\n",
       "      <td>Apple</td>\n",
       "      <td>Ultrabook</td>\n",
       "      <td>15.4</td>\n",
       "      <td>IPS Panel Retina Display 2880x1800</td>\n",
       "      <td>Intel Core i7 2.7GHz</td>\n",
       "      <td>16GB</td>\n",
       "      <td>512GB SSD</td>\n",
       "      <td>AMD Radeon Pro 455</td>\n",
       "      <td>macOS</td>\n",
       "      <td>1.83kg</td>\n",
       "      <td>135195.3360</td>\n",
       "    </tr>\n",
       "    <tr>\n",
       "      <th>4</th>\n",
       "      <td>4</td>\n",
       "      <td>Apple</td>\n",
       "      <td>Ultrabook</td>\n",
       "      <td>13.3</td>\n",
       "      <td>IPS Panel Retina Display 2560x1600</td>\n",
       "      <td>Intel Core i5 3.1GHz</td>\n",
       "      <td>8GB</td>\n",
       "      <td>256GB SSD</td>\n",
       "      <td>Intel Iris Plus Graphics 650</td>\n",
       "      <td>macOS</td>\n",
       "      <td>1.37kg</td>\n",
       "      <td>96095.8080</td>\n",
       "    </tr>\n",
       "  </tbody>\n",
       "</table>\n",
       "</div>"
      ],
      "text/plain": [
       "   Unnamed: 0 Company   TypeName  Inches                    ScreenResolution  \\\n",
       "0           0   Apple  Ultrabook    13.3  IPS Panel Retina Display 2560x1600   \n",
       "1           1   Apple  Ultrabook    13.3                            1440x900   \n",
       "2           2      HP   Notebook    15.6                   Full HD 1920x1080   \n",
       "3           3   Apple  Ultrabook    15.4  IPS Panel Retina Display 2880x1800   \n",
       "4           4   Apple  Ultrabook    13.3  IPS Panel Retina Display 2560x1600   \n",
       "\n",
       "                          Cpu   Ram               Memory  \\\n",
       "0        Intel Core i5 2.3GHz   8GB            128GB SSD   \n",
       "1        Intel Core i5 1.8GHz   8GB  128GB Flash Storage   \n",
       "2  Intel Core i5 7200U 2.5GHz   8GB            256GB SSD   \n",
       "3        Intel Core i7 2.7GHz  16GB            512GB SSD   \n",
       "4        Intel Core i5 3.1GHz   8GB            256GB SSD   \n",
       "\n",
       "                            Gpu  OpSys  Weight        Price  \n",
       "0  Intel Iris Plus Graphics 640  macOS  1.37kg   71378.6832  \n",
       "1        Intel HD Graphics 6000  macOS  1.34kg   47895.5232  \n",
       "2         Intel HD Graphics 620  No OS  1.86kg   30636.0000  \n",
       "3            AMD Radeon Pro 455  macOS  1.83kg  135195.3360  \n",
       "4  Intel Iris Plus Graphics 650  macOS  1.37kg   96095.8080  "
      ]
     },
     "execution_count": 3,
     "metadata": {},
     "output_type": "execute_result"
    }
   ],
   "source": [
    "data.head()"
   ]
  },
  {
   "cell_type": "code",
   "execution_count": 4,
   "id": "61aea157",
   "metadata": {},
   "outputs": [
    {
     "name": "stdout",
     "output_type": "stream",
     "text": [
      "<class 'pandas.core.frame.DataFrame'>\n",
      "RangeIndex: 1303 entries, 0 to 1302\n",
      "Data columns (total 12 columns):\n",
      " #   Column            Non-Null Count  Dtype  \n",
      "---  ------            --------------  -----  \n",
      " 0   Unnamed: 0        1303 non-null   int64  \n",
      " 1   Company           1303 non-null   object \n",
      " 2   TypeName          1303 non-null   object \n",
      " 3   Inches            1303 non-null   float64\n",
      " 4   ScreenResolution  1303 non-null   object \n",
      " 5   Cpu               1303 non-null   object \n",
      " 6   Ram               1303 non-null   object \n",
      " 7   Memory            1303 non-null   object \n",
      " 8   Gpu               1303 non-null   object \n",
      " 9   OpSys             1303 non-null   object \n",
      " 10  Weight            1303 non-null   object \n",
      " 11  Price             1303 non-null   float64\n",
      "dtypes: float64(2), int64(1), object(9)\n",
      "memory usage: 122.3+ KB\n"
     ]
    }
   ],
   "source": [
    "data.info()"
   ]
  },
  {
   "cell_type": "code",
   "execution_count": null,
   "id": "caa72621",
   "metadata": {},
   "outputs": [],
   "source": []
  },
  {
   "cell_type": "code",
   "execution_count": 5,
   "id": "3da8e645",
   "metadata": {},
   "outputs": [
    {
     "data": {
      "text/plain": [
       "(1303, 12)"
      ]
     },
     "execution_count": 5,
     "metadata": {},
     "output_type": "execute_result"
    }
   ],
   "source": [
    "data.shape"
   ]
  },
  {
   "cell_type": "code",
   "execution_count": 6,
   "id": "05f89007",
   "metadata": {},
   "outputs": [
    {
     "data": {
      "text/html": [
       "<div>\n",
       "<style scoped>\n",
       "    .dataframe tbody tr th:only-of-type {\n",
       "        vertical-align: middle;\n",
       "    }\n",
       "\n",
       "    .dataframe tbody tr th {\n",
       "        vertical-align: top;\n",
       "    }\n",
       "\n",
       "    .dataframe thead th {\n",
       "        text-align: right;\n",
       "    }\n",
       "</style>\n",
       "<table border=\"1\" class=\"dataframe\">\n",
       "  <thead>\n",
       "    <tr style=\"text-align: right;\">\n",
       "      <th></th>\n",
       "      <th>Unnamed: 0</th>\n",
       "      <th>Inches</th>\n",
       "      <th>Price</th>\n",
       "    </tr>\n",
       "  </thead>\n",
       "  <tbody>\n",
       "    <tr>\n",
       "      <th>Unnamed: 0</th>\n",
       "      <td>1.000000</td>\n",
       "      <td>-0.087936</td>\n",
       "      <td>0.067984</td>\n",
       "    </tr>\n",
       "    <tr>\n",
       "      <th>Inches</th>\n",
       "      <td>-0.087936</td>\n",
       "      <td>1.000000</td>\n",
       "      <td>0.068197</td>\n",
       "    </tr>\n",
       "    <tr>\n",
       "      <th>Price</th>\n",
       "      <td>0.067984</td>\n",
       "      <td>0.068197</td>\n",
       "      <td>1.000000</td>\n",
       "    </tr>\n",
       "  </tbody>\n",
       "</table>\n",
       "</div>"
      ],
      "text/plain": [
       "            Unnamed: 0    Inches     Price\n",
       "Unnamed: 0    1.000000 -0.087936  0.067984\n",
       "Inches       -0.087936  1.000000  0.068197\n",
       "Price         0.067984  0.068197  1.000000"
      ]
     },
     "execution_count": 6,
     "metadata": {},
     "output_type": "execute_result"
    }
   ],
   "source": [
    "data.corr()"
   ]
  },
  {
   "cell_type": "code",
   "execution_count": 7,
   "id": "4d32d950",
   "metadata": {},
   "outputs": [
    {
     "data": {
      "text/plain": [
       "Unnamed: 0          0\n",
       "Company             0\n",
       "TypeName            0\n",
       "Inches              0\n",
       "ScreenResolution    0\n",
       "Cpu                 0\n",
       "Ram                 0\n",
       "Memory              0\n",
       "Gpu                 0\n",
       "OpSys               0\n",
       "Weight              0\n",
       "Price               0\n",
       "dtype: int64"
      ]
     },
     "execution_count": 7,
     "metadata": {},
     "output_type": "execute_result"
    }
   ],
   "source": [
    "data.isnull().sum()"
   ]
  },
  {
   "cell_type": "code",
   "execution_count": 8,
   "id": "4268254b",
   "metadata": {},
   "outputs": [
    {
     "data": {
      "text/plain": [
       "Index(['Unnamed: 0', 'Company', 'TypeName', 'Inches', 'ScreenResolution',\n",
       "       'Cpu', 'Ram', 'Memory', 'Gpu', 'OpSys', 'Weight', 'Price'],\n",
       "      dtype='object')"
      ]
     },
     "execution_count": 8,
     "metadata": {},
     "output_type": "execute_result"
    }
   ],
   "source": [
    "data.columns"
   ]
  },
  {
   "cell_type": "code",
   "execution_count": 9,
   "id": "42789bc7",
   "metadata": {},
   "outputs": [],
   "source": [
    "data.drop('Unnamed: 0' , axis = 1 , inplace=True)"
   ]
  },
  {
   "cell_type": "code",
   "execution_count": 10,
   "id": "5334b3df",
   "metadata": {},
   "outputs": [
    {
     "data": {
      "text/plain": [
       "Index(['Company', 'TypeName', 'Inches', 'ScreenResolution', 'Cpu', 'Ram',\n",
       "       'Memory', 'Gpu', 'OpSys', 'Weight', 'Price'],\n",
       "      dtype='object')"
      ]
     },
     "execution_count": 10,
     "metadata": {},
     "output_type": "execute_result"
    }
   ],
   "source": [
    "data.columns"
   ]
  },
  {
   "cell_type": "code",
   "execution_count": 11,
   "id": "eb42ab8f",
   "metadata": {},
   "outputs": [
    {
     "data": {
      "text/plain": [
       "Lenovo    297\n",
       "Dell      297\n",
       "HP        274\n",
       "Asus      158\n",
       "Acer      103\n",
       "Name: Company, dtype: int64"
      ]
     },
     "execution_count": 11,
     "metadata": {},
     "output_type": "execute_result"
    }
   ],
   "source": [
    "data.Company.value_counts().head()"
   ]
  },
  {
   "cell_type": "code",
   "execution_count": 12,
   "id": "14aa6491",
   "metadata": {},
   "outputs": [
    {
     "data": {
      "text/html": [
       "<div>\n",
       "<style scoped>\n",
       "    .dataframe tbody tr th:only-of-type {\n",
       "        vertical-align: middle;\n",
       "    }\n",
       "\n",
       "    .dataframe tbody tr th {\n",
       "        vertical-align: top;\n",
       "    }\n",
       "\n",
       "    .dataframe thead th {\n",
       "        text-align: right;\n",
       "    }\n",
       "</style>\n",
       "<table border=\"1\" class=\"dataframe\">\n",
       "  <thead>\n",
       "    <tr style=\"text-align: right;\">\n",
       "      <th></th>\n",
       "      <th>Company</th>\n",
       "      <th>TypeName</th>\n",
       "      <th>Inches</th>\n",
       "      <th>ScreenResolution</th>\n",
       "      <th>Cpu</th>\n",
       "      <th>Ram</th>\n",
       "      <th>Memory</th>\n",
       "      <th>Gpu</th>\n",
       "      <th>OpSys</th>\n",
       "      <th>Weight</th>\n",
       "      <th>Price</th>\n",
       "    </tr>\n",
       "  </thead>\n",
       "  <tbody>\n",
       "    <tr>\n",
       "      <th>424</th>\n",
       "      <td>Dell</td>\n",
       "      <td>Gaming</td>\n",
       "      <td>17.3</td>\n",
       "      <td>IPS Panel 2560x1440</td>\n",
       "      <td>Intel Core i7 7820HK 2.9GHz</td>\n",
       "      <td>16GB</td>\n",
       "      <td>256GB SSD +  1TB HDD</td>\n",
       "      <td>Nvidia GeForce GTX 1070</td>\n",
       "      <td>Windows 10</td>\n",
       "      <td>4.42kg</td>\n",
       "      <td>149130.72</td>\n",
       "    </tr>\n",
       "  </tbody>\n",
       "</table>\n",
       "</div>"
      ],
      "text/plain": [
       "    Company TypeName  Inches     ScreenResolution  \\\n",
       "424    Dell   Gaming    17.3  IPS Panel 2560x1440   \n",
       "\n",
       "                             Cpu   Ram                Memory  \\\n",
       "424  Intel Core i7 7820HK 2.9GHz  16GB  256GB SSD +  1TB HDD   \n",
       "\n",
       "                         Gpu       OpSys  Weight      Price  \n",
       "424  Nvidia GeForce GTX 1070  Windows 10  4.42kg  149130.72  "
      ]
     },
     "execution_count": 12,
     "metadata": {},
     "output_type": "execute_result"
    }
   ],
   "source": [
    "data.sample()"
   ]
  },
  {
   "cell_type": "code",
   "execution_count": 13,
   "id": "916fc18e",
   "metadata": {},
   "outputs": [],
   "source": [
    "data['Ram'] = data['Ram'].str.replace('GB' ,'')\n",
    "data['Weight'] = data['Weight'].str.replace('kg' ,'')"
   ]
  },
  {
   "cell_type": "code",
   "execution_count": 14,
   "id": "045b67f2",
   "metadata": {},
   "outputs": [
    {
     "data": {
      "text/html": [
       "<div>\n",
       "<style scoped>\n",
       "    .dataframe tbody tr th:only-of-type {\n",
       "        vertical-align: middle;\n",
       "    }\n",
       "\n",
       "    .dataframe tbody tr th {\n",
       "        vertical-align: top;\n",
       "    }\n",
       "\n",
       "    .dataframe thead th {\n",
       "        text-align: right;\n",
       "    }\n",
       "</style>\n",
       "<table border=\"1\" class=\"dataframe\">\n",
       "  <thead>\n",
       "    <tr style=\"text-align: right;\">\n",
       "      <th></th>\n",
       "      <th>Company</th>\n",
       "      <th>TypeName</th>\n",
       "      <th>Inches</th>\n",
       "      <th>ScreenResolution</th>\n",
       "      <th>Cpu</th>\n",
       "      <th>Ram</th>\n",
       "      <th>Memory</th>\n",
       "      <th>Gpu</th>\n",
       "      <th>OpSys</th>\n",
       "      <th>Weight</th>\n",
       "      <th>Price</th>\n",
       "    </tr>\n",
       "  </thead>\n",
       "  <tbody>\n",
       "    <tr>\n",
       "      <th>476</th>\n",
       "      <td>Dell</td>\n",
       "      <td>Workstation</td>\n",
       "      <td>15.6</td>\n",
       "      <td>Full HD 1920x1080</td>\n",
       "      <td>Intel Core i7 7700HQ 2.8GHz</td>\n",
       "      <td>8</td>\n",
       "      <td>256GB SSD</td>\n",
       "      <td>Nvidia Quadro M1200</td>\n",
       "      <td>Windows 10</td>\n",
       "      <td>1.78</td>\n",
       "      <td>128298.24</td>\n",
       "    </tr>\n",
       "  </tbody>\n",
       "</table>\n",
       "</div>"
      ],
      "text/plain": [
       "    Company     TypeName  Inches   ScreenResolution  \\\n",
       "476    Dell  Workstation    15.6  Full HD 1920x1080   \n",
       "\n",
       "                             Cpu Ram     Memory                  Gpu  \\\n",
       "476  Intel Core i7 7700HQ 2.8GHz   8  256GB SSD  Nvidia Quadro M1200   \n",
       "\n",
       "          OpSys Weight      Price  \n",
       "476  Windows 10   1.78  128298.24  "
      ]
     },
     "execution_count": 14,
     "metadata": {},
     "output_type": "execute_result"
    }
   ],
   "source": [
    "data.sample()"
   ]
  },
  {
   "cell_type": "code",
   "execution_count": 15,
   "id": "064adb9d",
   "metadata": {},
   "outputs": [
    {
     "data": {
      "text/plain": [
       "Company              object\n",
       "TypeName             object\n",
       "Inches              float64\n",
       "ScreenResolution     object\n",
       "Cpu                  object\n",
       "Ram                  object\n",
       "Memory               object\n",
       "Gpu                  object\n",
       "OpSys                object\n",
       "Weight               object\n",
       "Price               float64\n",
       "dtype: object"
      ]
     },
     "execution_count": 15,
     "metadata": {},
     "output_type": "execute_result"
    }
   ],
   "source": [
    "data.dtypes"
   ]
  },
  {
   "cell_type": "code",
   "execution_count": 16,
   "id": "dd6b2fe8",
   "metadata": {},
   "outputs": [],
   "source": [
    "data.Ram = data.Ram.astype('int32')\n",
    "data.Weight = data.Weight.astype('float32')"
   ]
  },
  {
   "cell_type": "code",
   "execution_count": 17,
   "id": "c7268ef7",
   "metadata": {},
   "outputs": [
    {
     "data": {
      "text/plain": [
       "dtype('int32')"
      ]
     },
     "execution_count": 17,
     "metadata": {},
     "output_type": "execute_result"
    }
   ],
   "source": [
    "data.Ram.dtype"
   ]
  },
  {
   "cell_type": "code",
   "execution_count": 18,
   "id": "05c69808",
   "metadata": {},
   "outputs": [
    {
     "data": {
      "text/plain": [
       "dtype('float32')"
      ]
     },
     "execution_count": 18,
     "metadata": {},
     "output_type": "execute_result"
    }
   ],
   "source": [
    "data.Weight.dtype"
   ]
  },
  {
   "cell_type": "code",
   "execution_count": 19,
   "id": "09e0803c",
   "metadata": {},
   "outputs": [
    {
     "data": {
      "text/html": [
       "<div>\n",
       "<style scoped>\n",
       "    .dataframe tbody tr th:only-of-type {\n",
       "        vertical-align: middle;\n",
       "    }\n",
       "\n",
       "    .dataframe tbody tr th {\n",
       "        vertical-align: top;\n",
       "    }\n",
       "\n",
       "    .dataframe thead th {\n",
       "        text-align: right;\n",
       "    }\n",
       "</style>\n",
       "<table border=\"1\" class=\"dataframe\">\n",
       "  <thead>\n",
       "    <tr style=\"text-align: right;\">\n",
       "      <th></th>\n",
       "      <th>Company</th>\n",
       "      <th>TypeName</th>\n",
       "      <th>Inches</th>\n",
       "      <th>ScreenResolution</th>\n",
       "      <th>Cpu</th>\n",
       "      <th>Ram</th>\n",
       "      <th>Memory</th>\n",
       "      <th>Gpu</th>\n",
       "      <th>OpSys</th>\n",
       "      <th>Weight</th>\n",
       "      <th>Price</th>\n",
       "    </tr>\n",
       "  </thead>\n",
       "  <tbody>\n",
       "    <tr>\n",
       "      <th>1141</th>\n",
       "      <td>MSI</td>\n",
       "      <td>Gaming</td>\n",
       "      <td>15.6</td>\n",
       "      <td>Full HD 1920x1080</td>\n",
       "      <td>Intel Core i7 7700HQ 2.8GHz</td>\n",
       "      <td>8</td>\n",
       "      <td>128GB SSD +  1TB HDD</td>\n",
       "      <td>Nvidia GeForce GTX 1050</td>\n",
       "      <td>Windows 10</td>\n",
       "      <td>2.4</td>\n",
       "      <td>60888.384</td>\n",
       "    </tr>\n",
       "  </tbody>\n",
       "</table>\n",
       "</div>"
      ],
      "text/plain": [
       "     Company TypeName  Inches   ScreenResolution                          Cpu  \\\n",
       "1141     MSI   Gaming    15.6  Full HD 1920x1080  Intel Core i7 7700HQ 2.8GHz   \n",
       "\n",
       "      Ram                Memory                      Gpu       OpSys  Weight  \\\n",
       "1141    8  128GB SSD +  1TB HDD  Nvidia GeForce GTX 1050  Windows 10     2.4   \n",
       "\n",
       "          Price  \n",
       "1141  60888.384  "
      ]
     },
     "execution_count": 19,
     "metadata": {},
     "output_type": "execute_result"
    }
   ],
   "source": [
    "data.sample()"
   ]
  },
  {
   "cell_type": "code",
   "execution_count": 20,
   "id": "8d8c8cbb",
   "metadata": {},
   "outputs": [
    {
     "data": {
      "text/plain": [
       "Lenovo    297\n",
       "Dell      297\n",
       "HP        274\n",
       "Asus      158\n",
       "Acer      103\n",
       "Name: Company, dtype: int64"
      ]
     },
     "execution_count": 20,
     "metadata": {},
     "output_type": "execute_result"
    }
   ],
   "source": [
    "data.Company.value_counts().head()"
   ]
  },
  {
   "cell_type": "code",
   "execution_count": 21,
   "id": "da38c18e",
   "metadata": {},
   "outputs": [
    {
     "data": {
      "text/plain": [
       "<AxesSubplot:>"
      ]
     },
     "execution_count": 21,
     "metadata": {},
     "output_type": "execute_result"
    },
    {
     "data": {
      "image/png": "[encoded data removed]",
      "text/plain": [
       "<Figure size 864x432 with 1 Axes>"
      ]
     },
     "metadata": {
      "needs_background": "light"
     },
     "output_type": "display_data"
    }
   ],
   "source": [
    "plt.figure(figsize=(12,6))\n",
    "data.Company.value_counts().plot(kind = 'bar')"
   ]
  },
  {
   "cell_type": "code",
   "execution_count": 22,
   "id": "6fcb1ca2",
   "metadata": {},
   "outputs": [
    {
     "name": "stderr",
     "output_type": "stream",
     "text": [
      "C:\\Users\\96654\\anaconda3\\lib\\site-packages\\seaborn\\distributions.py:2557: FutureWarning: `distplot` is a deprecated function and will be removed in a future version. Please adapt your code to use either `displot` (a figure-level function with similar flexibility) or `histplot` (an axes-level function for histograms).\n",
      "  warnings.warn(msg, FutureWarning)\n"
     ]
    },
    {
     "data": {
      "text/plain": [
       "<AxesSubplot:xlabel='Price', ylabel='Density'>"
      ]
     },
     "execution_count": 22,
     "metadata": {},
     "output_type": "execute_result"
    },
    {
     "data": {
      "image/png": "[encoded data removed]",
      "text/plain": [
       "<Figure size 864x432 with 1 Axes>"
      ]
     },
     "metadata": {
      "needs_background": "light"
     },
     "output_type": "display_data"
    }
   ],
   "source": [
    "plt.figure(figsize=(12,6))\n",
    "sns.distplot(data.Price)"
   ]
  },
  {
   "cell_type": "code",
   "execution_count": 23,
   "id": "221f7a56",
   "metadata": {},
   "outputs": [
    {
     "data": {
      "text/plain": [
       "8     619\n",
       "4     375\n",
       "16    200\n",
       "6      41\n",
       "12     25\n",
       "2      22\n",
       "32     17\n",
       "24      3\n",
       "64      1\n",
       "Name: Ram, dtype: int64"
      ]
     },
     "execution_count": 23,
     "metadata": {},
     "output_type": "execute_result"
    }
   ],
   "source": [
    "data.Ram.value_counts()"
   ]
  },
  {
   "cell_type": "code",
   "execution_count": 24,
   "id": "59ed2fc6",
   "metadata": {},
   "outputs": [
    {
     "data": {
      "text/plain": [
       "<AxesSubplot:xlabel='Ram', ylabel='count'>"
      ]
     },
     "execution_count": 24,
     "metadata": {},
     "output_type": "execute_result"
    },
    {
     "data": {
      "image/png": "[encoded data removed]",
      "text/plain": [
       "<Figure size 864x432 with 1 Axes>"
      ]
     },
     "metadata": {
      "needs_background": "light"
     },
     "output_type": "display_data"
    }
   ],
   "source": [
    "plt.figure(figsize=(12,6))\n",
    "sns.countplot(data = data , x  = data.Ram , hue = data.TypeName)"
   ]
  },
  {
   "cell_type": "code",
   "execution_count": 25,
   "id": "997bf874",
   "metadata": {},
   "outputs": [
    {
     "data": {
      "image/png": "[encoded data removed]",
      "text/plain": [
       "<Figure size 864x432 with 1 Axes>"
      ]
     },
     "metadata": {
      "needs_background": "light"
     },
     "output_type": "display_data"
    }
   ],
   "source": [
    "plt.figure(figsize=(12,6))\n",
    "sns.barplot(x=data.Company,y=data.Price)\n",
    "plt.xticks(rotation='vertical')\n",
    "plt.show()"
   ]
  },
  {
   "cell_type": "code",
   "execution_count": 26,
   "id": "bd1504bc",
   "metadata": {},
   "outputs": [
    {
     "data": {
      "text/html": [
       "<div>\n",
       "<style scoped>\n",
       "    .dataframe tbody tr th:only-of-type {\n",
       "        vertical-align: middle;\n",
       "    }\n",
       "\n",
       "    .dataframe tbody tr th {\n",
       "        vertical-align: top;\n",
       "    }\n",
       "\n",
       "    .dataframe thead th {\n",
       "        text-align: right;\n",
       "    }\n",
       "</style>\n",
       "<table border=\"1\" class=\"dataframe\">\n",
       "  <thead>\n",
       "    <tr style=\"text-align: right;\">\n",
       "      <th></th>\n",
       "      <th>Company</th>\n",
       "      <th>TypeName</th>\n",
       "      <th>Inches</th>\n",
       "      <th>ScreenResolution</th>\n",
       "      <th>Cpu</th>\n",
       "      <th>Ram</th>\n",
       "      <th>Memory</th>\n",
       "      <th>Gpu</th>\n",
       "      <th>OpSys</th>\n",
       "      <th>Weight</th>\n",
       "      <th>Price</th>\n",
       "    </tr>\n",
       "  </thead>\n",
       "  <tbody>\n",
       "    <tr>\n",
       "      <th>214</th>\n",
       "      <td>Huawei</td>\n",
       "      <td>Ultrabook</td>\n",
       "      <td>13.0</td>\n",
       "      <td>IPS Panel Full HD 2160x1440</td>\n",
       "      <td>Intel Core i7 7500U 2.7GHz</td>\n",
       "      <td>8</td>\n",
       "      <td>512GB SSD</td>\n",
       "      <td>Intel HD Graphics 620</td>\n",
       "      <td>Windows 10</td>\n",
       "      <td>1.05</td>\n",
       "      <td>79866.72</td>\n",
       "    </tr>\n",
       "  </tbody>\n",
       "</table>\n",
       "</div>"
      ],
      "text/plain": [
       "    Company   TypeName  Inches             ScreenResolution  \\\n",
       "214  Huawei  Ultrabook    13.0  IPS Panel Full HD 2160x1440   \n",
       "\n",
       "                            Cpu  Ram     Memory                    Gpu  \\\n",
       "214  Intel Core i7 7500U 2.7GHz    8  512GB SSD  Intel HD Graphics 620   \n",
       "\n",
       "          OpSys  Weight     Price  \n",
       "214  Windows 10    1.05  79866.72  "
      ]
     },
     "execution_count": 26,
     "metadata": {},
     "output_type": "execute_result"
    }
   ],
   "source": [
    "data.sample()"
   ]
  },
  {
   "cell_type": "code",
   "execution_count": 27,
   "id": "2f156946",
   "metadata": {},
   "outputs": [
    {
     "data": {
      "image/png": "[encoded data removed]",
      "text/plain": [
       "<Figure size 864x432 with 1 Axes>"
      ]
     },
     "metadata": {
      "needs_background": "light"
     },
     "output_type": "display_data"
    }
   ],
   "source": [
    "plt.figure(figsize=(12,6))\n",
    "sns.barplot(x=data.TypeName,y=data.Price)\n",
    "plt.xticks(rotation='vertical')\n",
    "plt.show()"
   ]
  },
  {
   "cell_type": "code",
   "execution_count": 28,
   "id": "ff1c765d",
   "metadata": {},
   "outputs": [
    {
     "data": {
      "image/png": "[encoded data removed]",
      "text/plain": [
       "<Figure size 864x432 with 1 Axes>"
      ]
     },
     "metadata": {
      "needs_background": "light"
     },
     "output_type": "display_data"
    }
   ],
   "source": [
    "plt.figure(figsize=(12,6))\n",
    "sns.barplot(x=data.OpSys,y=data.Price)\n",
    "plt.xticks(rotation='vertical')\n",
    "plt.show()"
   ]
  },
  {
   "cell_type": "code",
   "execution_count": 29,
   "id": "5ab79351",
   "metadata": {},
   "outputs": [
    {
     "name": "stderr",
     "output_type": "stream",
     "text": [
      "C:\\Users\\96654\\anaconda3\\lib\\site-packages\\seaborn\\distributions.py:2557: FutureWarning: `distplot` is a deprecated function and will be removed in a future version. Please adapt your code to use either `displot` (a figure-level function with similar flexibility) or `histplot` (an axes-level function for histograms).\n",
      "  warnings.warn(msg, FutureWarning)\n"
     ]
    },
    {
     "data": {
      "text/plain": [
       "<AxesSubplot:xlabel='Inches', ylabel='Density'>"
      ]
     },
     "execution_count": 29,
     "metadata": {},
     "output_type": "execute_result"
    },
    {
     "data": {
      "image/png": "[encoded data removed]",
      "text/plain": [
       "<Figure size 864x432 with 1 Axes>"
      ]
     },
     "metadata": {
      "needs_background": "light"
     },
     "output_type": "display_data"
    }
   ],
   "source": [
    "plt.figure(figsize=(12,6))\n",
    "sns.distplot(data.Inches)"
   ]
  },
  {
   "cell_type": "code",
   "execution_count": 30,
   "id": "b837afc8",
   "metadata": {},
   "outputs": [
    {
     "data": {
      "text/plain": [
       "<AxesSubplot:xlabel='Inches', ylabel='Price'>"
      ]
     },
     "execution_count": 30,
     "metadata": {},
     "output_type": "execute_result"
    },
    {
     "data": {
      "image/png": "[encoded data removed]",
      "text/plain": [
       "<Figure size 864x432 with 1 Axes>"
      ]
     },
     "metadata": {
      "needs_background": "light"
     },
     "output_type": "display_data"
    }
   ],
   "source": [
    "plt.figure(figsize=(12,6))\n",
    "sns.scatterplot(data = data , x = data.Inches , y = data.Price)"
   ]
  },
  {
   "cell_type": "code",
   "execution_count": 31,
   "id": "e6042133",
   "metadata": {},
   "outputs": [
    {
     "data": {
      "text/plain": [
       "Full HD 1920x1080                                507\n",
       "1366x768                                         281\n",
       "IPS Panel Full HD 1920x1080                      230\n",
       "IPS Panel Full HD / Touchscreen 1920x1080         53\n",
       "Full HD / Touchscreen 1920x1080                   47\n",
       "1600x900                                          23\n",
       "Touchscreen 1366x768                              16\n",
       "Quad HD+ / Touchscreen 3200x1800                  15\n",
       "IPS Panel 4K Ultra HD 3840x2160                   12\n",
       "IPS Panel 4K Ultra HD / Touchscreen 3840x2160     11\n",
       "4K Ultra HD / Touchscreen 3840x2160               10\n",
       "4K Ultra HD 3840x2160                              7\n",
       "IPS Panel 1366x768                                 7\n",
       "Touchscreen 2560x1440                              7\n",
       "IPS Panel Quad HD+ / Touchscreen 3200x1800         6\n",
       "IPS Panel Retina Display 2560x1600                 6\n",
       "IPS Panel Retina Display 2304x1440                 6\n",
       "Touchscreen 2256x1504                              6\n",
       "IPS Panel Touchscreen 2560x1440                    5\n",
       "IPS Panel Retina Display 2880x1800                 4\n",
       "1440x900                                           4\n",
       "IPS Panel Touchscreen 1920x1200                    4\n",
       "IPS Panel 2560x1440                                4\n",
       "1920x1080                                          3\n",
       "Touchscreen 2400x1600                              3\n",
       "IPS Panel Quad HD+ 2560x1440                       3\n",
       "Quad HD+ 3200x1800                                 3\n",
       "2560x1440                                          3\n",
       "IPS Panel Touchscreen 1366x768                     3\n",
       "IPS Panel Full HD 2160x1440                        2\n",
       "IPS Panel Touchscreen / 4K Ultra HD 3840x2160      2\n",
       "IPS Panel Quad HD+ 3200x1800                       2\n",
       "IPS Panel Full HD 1366x768                         1\n",
       "IPS Panel Full HD 2560x1440                        1\n",
       "Touchscreen / 4K Ultra HD 3840x2160                1\n",
       "IPS Panel Full HD 1920x1200                        1\n",
       "Touchscreen / Full HD 1920x1080                    1\n",
       "Touchscreen / Quad HD+ 3200x1800                   1\n",
       "IPS Panel Touchscreen 2400x1600                    1\n",
       "IPS Panel Retina Display 2736x1824                 1\n",
       "Name: ScreenResolution, dtype: int64"
      ]
     },
     "execution_count": 31,
     "metadata": {},
     "output_type": "execute_result"
    }
   ],
   "source": [
    "data['ScreenResolution'].value_counts()\n"
   ]
  },
  {
   "cell_type": "code",
   "execution_count": 32,
   "id": "f6cf5e5b",
   "metadata": {},
   "outputs": [],
   "source": [
    "data['IPS'] = data['ScreenResolution'].apply(lambda x : 1 if 'IPS' in x else 0)\n",
    "data['Touchscreen'] = data['ScreenResolution'].apply(lambda x : 1 if 'Touchscreen' in x else 0 )"
   ]
  },
  {
   "cell_type": "code",
   "execution_count": 33,
   "id": "d2b057b9",
   "metadata": {},
   "outputs": [
    {
     "data": {
      "text/html": [
       "<div>\n",
       "<style scoped>\n",
       "    .dataframe tbody tr th:only-of-type {\n",
       "        vertical-align: middle;\n",
       "    }\n",
       "\n",
       "    .dataframe tbody tr th {\n",
       "        vertical-align: top;\n",
       "    }\n",
       "\n",
       "    .dataframe thead th {\n",
       "        text-align: right;\n",
       "    }\n",
       "</style>\n",
       "<table border=\"1\" class=\"dataframe\">\n",
       "  <thead>\n",
       "    <tr style=\"text-align: right;\">\n",
       "      <th></th>\n",
       "      <th>Company</th>\n",
       "      <th>TypeName</th>\n",
       "      <th>Inches</th>\n",
       "      <th>ScreenResolution</th>\n",
       "      <th>Cpu</th>\n",
       "      <th>Ram</th>\n",
       "      <th>Memory</th>\n",
       "      <th>Gpu</th>\n",
       "      <th>OpSys</th>\n",
       "      <th>Weight</th>\n",
       "      <th>Price</th>\n",
       "      <th>IPS</th>\n",
       "      <th>Touchscreen</th>\n",
       "    </tr>\n",
       "  </thead>\n",
       "  <tbody>\n",
       "    <tr>\n",
       "      <th>0</th>\n",
       "      <td>Apple</td>\n",
       "      <td>Ultrabook</td>\n",
       "      <td>13.3</td>\n",
       "      <td>IPS Panel Retina Display 2560x1600</td>\n",
       "      <td>Intel Core i5 2.3GHz</td>\n",
       "      <td>8</td>\n",
       "      <td>128GB SSD</td>\n",
       "      <td>Intel Iris Plus Graphics 640</td>\n",
       "      <td>macOS</td>\n",
       "      <td>1.37</td>\n",
       "      <td>71378.6832</td>\n",
       "      <td>1</td>\n",
       "      <td>0</td>\n",
       "    </tr>\n",
       "    <tr>\n",
       "      <th>1</th>\n",
       "      <td>Apple</td>\n",
       "      <td>Ultrabook</td>\n",
       "      <td>13.3</td>\n",
       "      <td>1440x900</td>\n",
       "      <td>Intel Core i5 1.8GHz</td>\n",
       "      <td>8</td>\n",
       "      <td>128GB Flash Storage</td>\n",
       "      <td>Intel HD Graphics 6000</td>\n",
       "      <td>macOS</td>\n",
       "      <td>1.34</td>\n",
       "      <td>47895.5232</td>\n",
       "      <td>0</td>\n",
       "      <td>0</td>\n",
       "    </tr>\n",
       "    <tr>\n",
       "      <th>2</th>\n",
       "      <td>HP</td>\n",
       "      <td>Notebook</td>\n",
       "      <td>15.6</td>\n",
       "      <td>Full HD 1920x1080</td>\n",
       "      <td>Intel Core i5 7200U 2.5GHz</td>\n",
       "      <td>8</td>\n",
       "      <td>256GB SSD</td>\n",
       "      <td>Intel HD Graphics 620</td>\n",
       "      <td>No OS</td>\n",
       "      <td>1.86</td>\n",
       "      <td>30636.0000</td>\n",
       "      <td>0</td>\n",
       "      <td>0</td>\n",
       "    </tr>\n",
       "    <tr>\n",
       "      <th>3</th>\n",
       "      <td>Apple</td>\n",
       "      <td>Ultrabook</td>\n",
       "      <td>15.4</td>\n",
       "      <td>IPS Panel Retina Display 2880x1800</td>\n",
       "      <td>Intel Core i7 2.7GHz</td>\n",
       "      <td>16</td>\n",
       "      <td>512GB SSD</td>\n",
       "      <td>AMD Radeon Pro 455</td>\n",
       "      <td>macOS</td>\n",
       "      <td>1.83</td>\n",
       "      <td>135195.3360</td>\n",
       "      <td>1</td>\n",
       "      <td>0</td>\n",
       "    </tr>\n",
       "    <tr>\n",
       "      <th>4</th>\n",
       "      <td>Apple</td>\n",
       "      <td>Ultrabook</td>\n",
       "      <td>13.3</td>\n",
       "      <td>IPS Panel Retina Display 2560x1600</td>\n",
       "      <td>Intel Core i5 3.1GHz</td>\n",
       "      <td>8</td>\n",
       "      <td>256GB SSD</td>\n",
       "      <td>Intel Iris Plus Graphics 650</td>\n",
       "      <td>macOS</td>\n",
       "      <td>1.37</td>\n",
       "      <td>96095.8080</td>\n",
       "      <td>1</td>\n",
       "      <td>0</td>\n",
       "    </tr>\n",
       "  </tbody>\n",
       "</table>\n",
       "</div>"
      ],
      "text/plain": [
       "  Company   TypeName  Inches                    ScreenResolution  \\\n",
       "0   Apple  Ultrabook    13.3  IPS Panel Retina Display 2560x1600   \n",
       "1   Apple  Ultrabook    13.3                            1440x900   \n",
       "2      HP   Notebook    15.6                   Full HD 1920x1080   \n",
       "3   Apple  Ultrabook    15.4  IPS Panel Retina Display 2880x1800   \n",
       "4   Apple  Ultrabook    13.3  IPS Panel Retina Display 2560x1600   \n",
       "\n",
       "                          Cpu  Ram               Memory  \\\n",
       "0        Intel Core i5 2.3GHz    8            128GB SSD   \n",
       "1        Intel Core i5 1.8GHz    8  128GB Flash Storage   \n",
       "2  Intel Core i5 7200U 2.5GHz    8            256GB SSD   \n",
       "3        Intel Core i7 2.7GHz   16            512GB SSD   \n",
       "4        Intel Core i5 3.1GHz    8            256GB SSD   \n",
       "\n",
       "                            Gpu  OpSys  Weight        Price  IPS  Touchscreen  \n",
       "0  Intel Iris Plus Graphics 640  macOS    1.37   71378.6832    1            0  \n",
       "1        Intel HD Graphics 6000  macOS    1.34   47895.5232    0            0  \n",
       "2         Intel HD Graphics 620  No OS    1.86   30636.0000    0            0  \n",
       "3            AMD Radeon Pro 455  macOS    1.83  135195.3360    1            0  \n",
       "4  Intel Iris Plus Graphics 650  macOS    1.37   96095.8080    1            0  "
      ]
     },
     "execution_count": 33,
     "metadata": {},
     "output_type": "execute_result"
    }
   ],
   "source": [
    "data.head()"
   ]
  },
  {
   "cell_type": "code",
   "execution_count": 34,
   "id": "0652e25f",
   "metadata": {},
   "outputs": [
    {
     "data": {
      "text/plain": [
       "<AxesSubplot:>"
      ]
     },
     "execution_count": 34,
     "metadata": {},
     "output_type": "execute_result"
    },
    {
     "data": {
      "image/png": "[encoded data removed]",
      "text/plain": [
       "<Figure size 432x288 with 1 Axes>"
      ]
     },
     "metadata": {
      "needs_background": "light"
     },
     "output_type": "display_data"
    }
   ],
   "source": [
    "data['IPS'].value_counts().plot(kind = 'bar')"
   ]
  },
  {
   "cell_type": "code",
   "execution_count": 35,
   "id": "69f1b790",
   "metadata": {},
   "outputs": [
    {
     "data": {
      "text/plain": [
       "0    1111\n",
       "1     192\n",
       "Name: Touchscreen, dtype: int64"
      ]
     },
     "execution_count": 35,
     "metadata": {},
     "output_type": "execute_result"
    }
   ],
   "source": [
    "data['Touchscreen'].value_counts()"
   ]
  },
  {
   "cell_type": "code",
   "execution_count": 36,
   "id": "1d5ccec4",
   "metadata": {},
   "outputs": [
    {
     "data": {
      "text/plain": [
       "<AxesSubplot:>"
      ]
     },
     "execution_count": 36,
     "metadata": {},
     "output_type": "execute_result"
    },
    {
     "data": {
      "image/png": "[encoded data removed]",
      "text/plain": [
       "<Figure size 432x288 with 1 Axes>"
      ]
     },
     "metadata": {
      "needs_background": "light"
     },
     "output_type": "display_data"
    }
   ],
   "source": [
    "data['Touchscreen'].value_counts().plot(kind = 'bar' )"
   ]
  },
  {
   "cell_type": "code",
   "execution_count": 37,
   "id": "725e4454",
   "metadata": {},
   "outputs": [
    {
     "data": {
      "text/plain": [
       "<AxesSubplot:xlabel='Touchscreen', ylabel='count'>"
      ]
     },
     "execution_count": 37,
     "metadata": {},
     "output_type": "execute_result"
    },
    {
     "data": {
      "image/png": "[encoded data removed]",
      "text/plain": [
       "<Figure size 864x432 with 1 Axes>"
      ]
     },
     "metadata": {
      "needs_background": "light"
     },
     "output_type": "display_data"
    }
   ],
   "source": [
    "plt.figure(figsize=(12,6))\n",
    "sns.countplot(data = data , x = data['Touchscreen']  , hue ='TypeName')"
   ]
  },
  {
   "cell_type": "code",
   "execution_count": 38,
   "id": "f740093f",
   "metadata": {},
   "outputs": [
    {
     "data": {
      "text/plain": [
       "<AxesSubplot:xlabel='Touchscreen', ylabel='count'>"
      ]
     },
     "execution_count": 38,
     "metadata": {},
     "output_type": "execute_result"
    },
    {
     "data": {
      "image/png": "[encoded data removed]",
      "text/plain": [
       "<Figure size 1008x432 with 1 Axes>"
      ]
     },
     "metadata": {
      "needs_background": "light"
     },
     "output_type": "display_data"
    }
   ],
   "source": [
    "plt.figure(figsize=(14,6))\n",
    "sns.countplot(data = data , x = data['Touchscreen']  , hue ='Company')"
   ]
  },
  {
   "cell_type": "code",
   "execution_count": 39,
   "id": "9f02b09c",
   "metadata": {},
   "outputs": [
    {
     "data": {
      "text/plain": [
       "<AxesSubplot:xlabel='IPS', ylabel='Price'>"
      ]
     },
     "execution_count": 39,
     "metadata": {},
     "output_type": "execute_result"
    },
    {
     "data": {
      "image/png": "[encoded data removed]",
      "text/plain": [
       "<Figure size 1008x432 with 1 Axes>"
      ]
     },
     "metadata": {
      "needs_background": "light"
     },
     "output_type": "display_data"
    }
   ],
   "source": [
    "plt.figure(figsize=(14,6))\n",
    "sns.barplot(x=data['IPS'],y=data['Price'])"
   ]
  },
  {
   "cell_type": "code",
   "execution_count": 40,
   "id": "506e5c3a",
   "metadata": {},
   "outputs": [
    {
     "data": {
      "text/plain": [
       "<AxesSubplot:xlabel='Touchscreen', ylabel='Price'>"
      ]
     },
     "execution_count": 40,
     "metadata": {},
     "output_type": "execute_result"
    },
    {
     "data": {
      "image/png": "[encoded data removed]",
      "text/plain": [
       "<Figure size 1008x432 with 1 Axes>"
      ]
     },
     "metadata": {
      "needs_background": "light"
     },
     "output_type": "display_data"
    }
   ],
   "source": [
    "plt.figure(figsize=(14,6))\n",
    "sns.barplot(x=data['Touchscreen'],y=data['Price'])"
   ]
  },
  {
   "cell_type": "code",
   "execution_count": 41,
   "id": "060b4291",
   "metadata": {},
   "outputs": [
    {
     "data": {
      "text/html": [
       "<div>\n",
       "<style scoped>\n",
       "    .dataframe tbody tr th:only-of-type {\n",
       "        vertical-align: middle;\n",
       "    }\n",
       "\n",
       "    .dataframe tbody tr th {\n",
       "        vertical-align: top;\n",
       "    }\n",
       "\n",
       "    .dataframe thead th {\n",
       "        text-align: right;\n",
       "    }\n",
       "</style>\n",
       "<table border=\"1\" class=\"dataframe\">\n",
       "  <thead>\n",
       "    <tr style=\"text-align: right;\">\n",
       "      <th></th>\n",
       "      <th>Company</th>\n",
       "      <th>TypeName</th>\n",
       "      <th>Inches</th>\n",
       "      <th>ScreenResolution</th>\n",
       "      <th>Cpu</th>\n",
       "      <th>Ram</th>\n",
       "      <th>Memory</th>\n",
       "      <th>Gpu</th>\n",
       "      <th>OpSys</th>\n",
       "      <th>Weight</th>\n",
       "      <th>Price</th>\n",
       "      <th>IPS</th>\n",
       "      <th>Touchscreen</th>\n",
       "    </tr>\n",
       "  </thead>\n",
       "  <tbody>\n",
       "    <tr>\n",
       "      <th>524</th>\n",
       "      <td>Dell</td>\n",
       "      <td>Notebook</td>\n",
       "      <td>17.3</td>\n",
       "      <td>IPS Panel Full HD 1920x1080</td>\n",
       "      <td>Intel Core i5 8250U 1.6GHz</td>\n",
       "      <td>8</td>\n",
       "      <td>128GB SSD +  1TB HDD</td>\n",
       "      <td>AMD Radeon 530</td>\n",
       "      <td>Linux</td>\n",
       "      <td>2.8</td>\n",
       "      <td>47365.92</td>\n",
       "      <td>1</td>\n",
       "      <td>0</td>\n",
       "    </tr>\n",
       "  </tbody>\n",
       "</table>\n",
       "</div>"
      ],
      "text/plain": [
       "    Company  TypeName  Inches             ScreenResolution  \\\n",
       "524    Dell  Notebook    17.3  IPS Panel Full HD 1920x1080   \n",
       "\n",
       "                            Cpu  Ram                Memory             Gpu  \\\n",
       "524  Intel Core i5 8250U 1.6GHz    8  128GB SSD +  1TB HDD  AMD Radeon 530   \n",
       "\n",
       "     OpSys  Weight     Price  IPS  Touchscreen  \n",
       "524  Linux     2.8  47365.92    1            0  "
      ]
     },
     "execution_count": 41,
     "metadata": {},
     "output_type": "execute_result"
    }
   ],
   "source": [
    "data.sample()"
   ]
  },
  {
   "cell_type": "code",
   "execution_count": 42,
   "id": "e6b8b753",
   "metadata": {},
   "outputs": [],
   "source": [
    "new_res = data['ScreenResolution'].str.split('x' , expand=True , n = 1)"
   ]
  },
  {
   "cell_type": "code",
   "execution_count": 43,
   "id": "2c8888be",
   "metadata": {},
   "outputs": [
    {
     "data": {
      "text/plain": [
       "0               IPS Panel Retina Display 2560\n",
       "1                                        1440\n",
       "2                                Full HD 1920\n",
       "3               IPS Panel Retina Display 2880\n",
       "4               IPS Panel Retina Display 2560\n",
       "                        ...                  \n",
       "1298     IPS Panel Full HD / Touchscreen 1920\n",
       "1299    IPS Panel Quad HD+ / Touchscreen 3200\n",
       "1300                                     1366\n",
       "1301                                     1366\n",
       "1302                                     1366\n",
       "Name: 0, Length: 1303, dtype: object"
      ]
     },
     "execution_count": 43,
     "metadata": {},
     "output_type": "execute_result"
    }
   ],
   "source": [
    "new_res[0]"
   ]
  },
  {
   "cell_type": "code",
   "execution_count": 44,
   "id": "7693a9ae",
   "metadata": {},
   "outputs": [
    {
     "data": {
      "text/plain": [
       "0       1600\n",
       "1        900\n",
       "2       1080\n",
       "3       1800\n",
       "4       1600\n",
       "        ... \n",
       "1298    1080\n",
       "1299    1800\n",
       "1300     768\n",
       "1301     768\n",
       "1302     768\n",
       "Name: 1, Length: 1303, dtype: object"
      ]
     },
     "execution_count": 44,
     "metadata": {},
     "output_type": "execute_result"
    }
   ],
   "source": [
    "new_res[1]"
   ]
  },
  {
   "cell_type": "code",
   "execution_count": 45,
   "id": "b0e51401",
   "metadata": {},
   "outputs": [],
   "source": [
    "data['X_res'] = new_res[0]\n",
    "data['Y_res'] = new_res[1]"
   ]
  },
  {
   "cell_type": "code",
   "execution_count": 46,
   "id": "814bf056",
   "metadata": {},
   "outputs": [],
   "source": [
    "data['X_res'] = data['X_res'].astype('str').str.extractall('(\\d+)').unstack().fillna('').sum(axis=1).astype(int)"
   ]
  },
  {
   "cell_type": "code",
   "execution_count": 47,
   "id": "4c3d4baa",
   "metadata": {},
   "outputs": [
    {
     "data": {
      "text/html": [
       "<div>\n",
       "<style scoped>\n",
       "    .dataframe tbody tr th:only-of-type {\n",
       "        vertical-align: middle;\n",
       "    }\n",
       "\n",
       "    .dataframe tbody tr th {\n",
       "        vertical-align: top;\n",
       "    }\n",
       "\n",
       "    .dataframe thead th {\n",
       "        text-align: right;\n",
       "    }\n",
       "</style>\n",
       "<table border=\"1\" class=\"dataframe\">\n",
       "  <thead>\n",
       "    <tr style=\"text-align: right;\">\n",
       "      <th></th>\n",
       "      <th>Company</th>\n",
       "      <th>TypeName</th>\n",
       "      <th>Inches</th>\n",
       "      <th>ScreenResolution</th>\n",
       "      <th>Cpu</th>\n",
       "      <th>Ram</th>\n",
       "      <th>Memory</th>\n",
       "      <th>Gpu</th>\n",
       "      <th>OpSys</th>\n",
       "      <th>Weight</th>\n",
       "      <th>Price</th>\n",
       "      <th>IPS</th>\n",
       "      <th>Touchscreen</th>\n",
       "      <th>X_res</th>\n",
       "      <th>Y_res</th>\n",
       "    </tr>\n",
       "  </thead>\n",
       "  <tbody>\n",
       "    <tr>\n",
       "      <th>0</th>\n",
       "      <td>Apple</td>\n",
       "      <td>Ultrabook</td>\n",
       "      <td>13.3</td>\n",
       "      <td>IPS Panel Retina Display 2560x1600</td>\n",
       "      <td>Intel Core i5 2.3GHz</td>\n",
       "      <td>8</td>\n",
       "      <td>128GB SSD</td>\n",
       "      <td>Intel Iris Plus Graphics 640</td>\n",
       "      <td>macOS</td>\n",
       "      <td>1.37</td>\n",
       "      <td>71378.6832</td>\n",
       "      <td>1</td>\n",
       "      <td>0</td>\n",
       "      <td>2560</td>\n",
       "      <td>1600</td>\n",
       "    </tr>\n",
       "    <tr>\n",
       "      <th>1</th>\n",
       "      <td>Apple</td>\n",
       "      <td>Ultrabook</td>\n",
       "      <td>13.3</td>\n",
       "      <td>1440x900</td>\n",
       "      <td>Intel Core i5 1.8GHz</td>\n",
       "      <td>8</td>\n",
       "      <td>128GB Flash Storage</td>\n",
       "      <td>Intel HD Graphics 6000</td>\n",
       "      <td>macOS</td>\n",
       "      <td>1.34</td>\n",
       "      <td>47895.5232</td>\n",
       "      <td>0</td>\n",
       "      <td>0</td>\n",
       "      <td>1440</td>\n",
       "      <td>900</td>\n",
       "    </tr>\n",
       "    <tr>\n",
       "      <th>2</th>\n",
       "      <td>HP</td>\n",
       "      <td>Notebook</td>\n",
       "      <td>15.6</td>\n",
       "      <td>Full HD 1920x1080</td>\n",
       "      <td>Intel Core i5 7200U 2.5GHz</td>\n",
       "      <td>8</td>\n",
       "      <td>256GB SSD</td>\n",
       "      <td>Intel HD Graphics 620</td>\n",
       "      <td>No OS</td>\n",
       "      <td>1.86</td>\n",
       "      <td>30636.0000</td>\n",
       "      <td>0</td>\n",
       "      <td>0</td>\n",
       "      <td>1920</td>\n",
       "      <td>1080</td>\n",
       "    </tr>\n",
       "    <tr>\n",
       "      <th>3</th>\n",
       "      <td>Apple</td>\n",
       "      <td>Ultrabook</td>\n",
       "      <td>15.4</td>\n",
       "      <td>IPS Panel Retina Display 2880x1800</td>\n",
       "      <td>Intel Core i7 2.7GHz</td>\n",
       "      <td>16</td>\n",
       "      <td>512GB SSD</td>\n",
       "      <td>AMD Radeon Pro 455</td>\n",
       "      <td>macOS</td>\n",
       "      <td>1.83</td>\n",
       "      <td>135195.3360</td>\n",
       "      <td>1</td>\n",
       "      <td>0</td>\n",
       "      <td>2880</td>\n",
       "      <td>1800</td>\n",
       "    </tr>\n",
       "    <tr>\n",
       "      <th>4</th>\n",
       "      <td>Apple</td>\n",
       "      <td>Ultrabook</td>\n",
       "      <td>13.3</td>\n",
       "      <td>IPS Panel Retina Display 2560x1600</td>\n",
       "      <td>Intel Core i5 3.1GHz</td>\n",
       "      <td>8</td>\n",
       "      <td>256GB SSD</td>\n",
       "      <td>Intel Iris Plus Graphics 650</td>\n",
       "      <td>macOS</td>\n",
       "      <td>1.37</td>\n",
       "      <td>96095.8080</td>\n",
       "      <td>1</td>\n",
       "      <td>0</td>\n",
       "      <td>2560</td>\n",
       "      <td>1600</td>\n",
       "    </tr>\n",
       "  </tbody>\n",
       "</table>\n",
       "</div>"
      ],
      "text/plain": [
       "  Company   TypeName  Inches                    ScreenResolution  \\\n",
       "0   Apple  Ultrabook    13.3  IPS Panel Retina Display 2560x1600   \n",
       "1   Apple  Ultrabook    13.3                            1440x900   \n",
       "2      HP   Notebook    15.6                   Full HD 1920x1080   \n",
       "3   Apple  Ultrabook    15.4  IPS Panel Retina Display 2880x1800   \n",
       "4   Apple  Ultrabook    13.3  IPS Panel Retina Display 2560x1600   \n",
       "\n",
       "                          Cpu  Ram               Memory  \\\n",
       "0        Intel Core i5 2.3GHz    8            128GB SSD   \n",
       "1        Intel Core i5 1.8GHz    8  128GB Flash Storage   \n",
       "2  Intel Core i5 7200U 2.5GHz    8            256GB SSD   \n",
       "3        Intel Core i7 2.7GHz   16            512GB SSD   \n",
       "4        Intel Core i5 3.1GHz    8            256GB SSD   \n",
       "\n",
       "                            Gpu  OpSys  Weight        Price  IPS  Touchscreen  \\\n",
       "0  Intel Iris Plus Graphics 640  macOS    1.37   71378.6832    1            0   \n",
       "1        Intel HD Graphics 6000  macOS    1.34   47895.5232    0            0   \n",
       "2         Intel HD Graphics 620  No OS    1.86   30636.0000    0            0   \n",
       "3            AMD Radeon Pro 455  macOS    1.83  135195.3360    1            0   \n",
       "4  Intel Iris Plus Graphics 650  macOS    1.37   96095.8080    1            0   \n",
       "\n",
       "   X_res Y_res  \n",
       "0   2560  1600  \n",
       "1   1440   900  \n",
       "2   1920  1080  \n",
       "3   2880  1800  \n",
       "4   2560  1600  "
      ]
     },
     "execution_count": 47,
     "metadata": {},
     "output_type": "execute_result"
    }
   ],
   "source": [
    "data.head()"
   ]
  },
  {
   "cell_type": "code",
   "execution_count": 48,
   "id": "fda4c0a5",
   "metadata": {},
   "outputs": [
    {
     "data": {
      "text/html": [
       "<div>\n",
       "<style scoped>\n",
       "    .dataframe tbody tr th:only-of-type {\n",
       "        vertical-align: middle;\n",
       "    }\n",
       "\n",
       "    .dataframe tbody tr th {\n",
       "        vertical-align: top;\n",
       "    }\n",
       "\n",
       "    .dataframe thead th {\n",
       "        text-align: right;\n",
       "    }\n",
       "</style>\n",
       "<table border=\"1\" class=\"dataframe\">\n",
       "  <thead>\n",
       "    <tr style=\"text-align: right;\">\n",
       "      <th></th>\n",
       "      <th>Company</th>\n",
       "      <th>TypeName</th>\n",
       "      <th>Inches</th>\n",
       "      <th>ScreenResolution</th>\n",
       "      <th>Cpu</th>\n",
       "      <th>Ram</th>\n",
       "      <th>Memory</th>\n",
       "      <th>Gpu</th>\n",
       "      <th>OpSys</th>\n",
       "      <th>Weight</th>\n",
       "      <th>Price</th>\n",
       "      <th>IPS</th>\n",
       "      <th>Touchscreen</th>\n",
       "      <th>X_res</th>\n",
       "      <th>Y_res</th>\n",
       "    </tr>\n",
       "  </thead>\n",
       "  <tbody>\n",
       "    <tr>\n",
       "      <th>274</th>\n",
       "      <td>Toshiba</td>\n",
       "      <td>Notebook</td>\n",
       "      <td>15.6</td>\n",
       "      <td>1366x768</td>\n",
       "      <td>Intel Core i7 6500U 2.5GHz</td>\n",
       "      <td>8</td>\n",
       "      <td>500GB HDD</td>\n",
       "      <td>Nvidia GeForce 930M</td>\n",
       "      <td>Windows 10</td>\n",
       "      <td>2.2</td>\n",
       "      <td>43263.36</td>\n",
       "      <td>0</td>\n",
       "      <td>0</td>\n",
       "      <td>1366</td>\n",
       "      <td>768</td>\n",
       "    </tr>\n",
       "  </tbody>\n",
       "</table>\n",
       "</div>"
      ],
      "text/plain": [
       "     Company  TypeName  Inches ScreenResolution                         Cpu  \\\n",
       "274  Toshiba  Notebook    15.6         1366x768  Intel Core i7 6500U 2.5GHz   \n",
       "\n",
       "     Ram     Memory                  Gpu       OpSys  Weight     Price  IPS  \\\n",
       "274    8  500GB HDD  Nvidia GeForce 930M  Windows 10     2.2  43263.36    0   \n",
       "\n",
       "     Touchscreen  X_res Y_res  \n",
       "274            0   1366   768  "
      ]
     },
     "execution_count": 48,
     "metadata": {},
     "output_type": "execute_result"
    }
   ],
   "source": [
    "data.sample()"
   ]
  },
  {
   "cell_type": "code",
   "execution_count": 49,
   "id": "38cd1c7d",
   "metadata": {},
   "outputs": [
    {
     "data": {
      "text/plain": [
       "Company              object\n",
       "TypeName             object\n",
       "Inches              float64\n",
       "ScreenResolution     object\n",
       "Cpu                  object\n",
       "Ram                   int32\n",
       "Memory               object\n",
       "Gpu                  object\n",
       "OpSys                object\n",
       "Weight              float32\n",
       "Price               float64\n",
       "IPS                   int64\n",
       "Touchscreen           int64\n",
       "X_res                 int32\n",
       "Y_res                object\n",
       "dtype: object"
      ]
     },
     "execution_count": 49,
     "metadata": {},
     "output_type": "execute_result"
    }
   ],
   "source": [
    "data.dtypes"
   ]
  },
  {
   "cell_type": "code",
   "execution_count": 50,
   "id": "79b63c37",
   "metadata": {},
   "outputs": [],
   "source": [
    "data[['X_res' , 'Y_res']] =data[['X_res' , 'Y_res']].astype('int32')"
   ]
  },
  {
   "cell_type": "code",
   "execution_count": 51,
   "id": "0b20aef0",
   "metadata": {},
   "outputs": [
    {
     "data": {
      "text/plain": [
       "Company              object\n",
       "TypeName             object\n",
       "Inches              float64\n",
       "ScreenResolution     object\n",
       "Cpu                  object\n",
       "Ram                   int32\n",
       "Memory               object\n",
       "Gpu                  object\n",
       "OpSys                object\n",
       "Weight              float32\n",
       "Price               float64\n",
       "IPS                   int64\n",
       "Touchscreen           int64\n",
       "X_res                 int32\n",
       "Y_res                 int32\n",
       "dtype: object"
      ]
     },
     "execution_count": 51,
     "metadata": {},
     "output_type": "execute_result"
    }
   ],
   "source": [
    "data.dtypes"
   ]
  },
  {
   "cell_type": "code",
   "execution_count": 52,
   "id": "12e9ee83",
   "metadata": {},
   "outputs": [
    {
     "data": {
      "text/plain": [
       "Inches         0.068197\n",
       "Ram            0.743007\n",
       "Weight         0.210370\n",
       "Price          1.000000\n",
       "IPS            0.252208\n",
       "Touchscreen    0.191226\n",
       "X_res          0.363806\n",
       "Y_res          0.552809\n",
       "Name: Price, dtype: float64"
      ]
     },
     "execution_count": 52,
     "metadata": {},
     "output_type": "execute_result"
    }
   ],
   "source": [
    "data.corr()['Price']"
   ]
  },
  {
   "cell_type": "code",
   "execution_count": 53,
   "id": "f266b349",
   "metadata": {},
   "outputs": [
    {
     "data": {
      "text/html": [
       "<div>\n",
       "<style scoped>\n",
       "    .dataframe tbody tr th:only-of-type {\n",
       "        vertical-align: middle;\n",
       "    }\n",
       "\n",
       "    .dataframe tbody tr th {\n",
       "        vertical-align: top;\n",
       "    }\n",
       "\n",
       "    .dataframe thead th {\n",
       "        text-align: right;\n",
       "    }\n",
       "</style>\n",
       "<table border=\"1\" class=\"dataframe\">\n",
       "  <thead>\n",
       "    <tr style=\"text-align: right;\">\n",
       "      <th></th>\n",
       "      <th>Company</th>\n",
       "      <th>TypeName</th>\n",
       "      <th>Inches</th>\n",
       "      <th>ScreenResolution</th>\n",
       "      <th>Cpu</th>\n",
       "      <th>Ram</th>\n",
       "      <th>Memory</th>\n",
       "      <th>Gpu</th>\n",
       "      <th>OpSys</th>\n",
       "      <th>Weight</th>\n",
       "      <th>Price</th>\n",
       "      <th>IPS</th>\n",
       "      <th>Touchscreen</th>\n",
       "      <th>X_res</th>\n",
       "      <th>Y_res</th>\n",
       "    </tr>\n",
       "  </thead>\n",
       "  <tbody>\n",
       "    <tr>\n",
       "      <th>1188</th>\n",
       "      <td>Dell</td>\n",
       "      <td>Ultrabook</td>\n",
       "      <td>13.3</td>\n",
       "      <td>Quad HD+ / Touchscreen 3200x1800</td>\n",
       "      <td>Intel Core i5 6300U 2.4GHz</td>\n",
       "      <td>8</td>\n",
       "      <td>256GB SSD</td>\n",
       "      <td>Intel HD Graphics 520</td>\n",
       "      <td>Linux</td>\n",
       "      <td>1.23</td>\n",
       "      <td>58554.72</td>\n",
       "      <td>0</td>\n",
       "      <td>1</td>\n",
       "      <td>3200</td>\n",
       "      <td>1800</td>\n",
       "    </tr>\n",
       "  </tbody>\n",
       "</table>\n",
       "</div>"
      ],
      "text/plain": [
       "     Company   TypeName  Inches                  ScreenResolution  \\\n",
       "1188    Dell  Ultrabook    13.3  Quad HD+ / Touchscreen 3200x1800   \n",
       "\n",
       "                             Cpu  Ram     Memory                    Gpu  \\\n",
       "1188  Intel Core i5 6300U 2.4GHz    8  256GB SSD  Intel HD Graphics 520   \n",
       "\n",
       "      OpSys  Weight     Price  IPS  Touchscreen  X_res  Y_res  \n",
       "1188  Linux    1.23  58554.72    0            1   3200   1800  "
      ]
     },
     "execution_count": 53,
     "metadata": {},
     "output_type": "execute_result"
    }
   ],
   "source": [
    "data.sample()"
   ]
  },
  {
   "cell_type": "code",
   "execution_count": 54,
   "id": "fac9f0c2",
   "metadata": {},
   "outputs": [],
   "source": [
    "data['cpu name'] = data['Cpu'].apply(lambda x :\" \".join(x.split()[0:3]))"
   ]
  },
  {
   "cell_type": "code",
   "execution_count": 55,
   "id": "81b1e70d",
   "metadata": {},
   "outputs": [
    {
     "data": {
      "text/plain": [
       "<AxesSubplot:ylabel='cpu name'>"
      ]
     },
     "execution_count": 55,
     "metadata": {},
     "output_type": "execute_result"
    },
    {
     "data": {
      "image/png": "[encoded data removed]",
      "text/plain": [
       "<Figure size 432x288 with 1 Axes>"
      ]
     },
     "metadata": {},
     "output_type": "display_data"
    }
   ],
   "source": [
    "data['cpu name'].value_counts().head().plot(kind = \"pie\" ,autopct = '%1.1f%%')"
   ]
  },
  {
   "cell_type": "code",
   "execution_count": 56,
   "id": "cdb37fac",
   "metadata": {},
   "outputs": [
    {
     "data": {
      "text/plain": [
       "<AxesSubplot:xlabel='cpu name', ylabel='Price'>"
      ]
     },
     "execution_count": 56,
     "metadata": {},
     "output_type": "execute_result"
    },
    {
     "data": {
      "image/png": "[encoded data removed]",
      "text/plain": [
       "<Figure size 432x288 with 1 Axes>"
      ]
     },
     "metadata": {
      "needs_background": "light"
     },
     "output_type": "display_data"
    }
   ],
   "source": [
    "sns.barplot(data= data , x = data['cpu name'].head(10), y = 'Price')"
   ]
  },
  {
   "cell_type": "code",
   "execution_count": 57,
   "id": "ed0fdf53",
   "metadata": {},
   "outputs": [
    {
     "data": {
      "text/html": [
       "<div>\n",
       "<style scoped>\n",
       "    .dataframe tbody tr th:only-of-type {\n",
       "        vertical-align: middle;\n",
       "    }\n",
       "\n",
       "    .dataframe tbody tr th {\n",
       "        vertical-align: top;\n",
       "    }\n",
       "\n",
       "    .dataframe thead th {\n",
       "        text-align: right;\n",
       "    }\n",
       "</style>\n",
       "<table border=\"1\" class=\"dataframe\">\n",
       "  <thead>\n",
       "    <tr style=\"text-align: right;\">\n",
       "      <th></th>\n",
       "      <th>Company</th>\n",
       "      <th>TypeName</th>\n",
       "      <th>Inches</th>\n",
       "      <th>ScreenResolution</th>\n",
       "      <th>Cpu</th>\n",
       "      <th>Ram</th>\n",
       "      <th>Memory</th>\n",
       "      <th>Gpu</th>\n",
       "      <th>OpSys</th>\n",
       "      <th>Weight</th>\n",
       "      <th>Price</th>\n",
       "      <th>IPS</th>\n",
       "      <th>Touchscreen</th>\n",
       "      <th>X_res</th>\n",
       "      <th>Y_res</th>\n",
       "      <th>cpu name</th>\n",
       "    </tr>\n",
       "  </thead>\n",
       "  <tbody>\n",
       "    <tr>\n",
       "      <th>301</th>\n",
       "      <td>Asus</td>\n",
       "      <td>Gaming</td>\n",
       "      <td>17.3</td>\n",
       "      <td>Full HD 1920x1080</td>\n",
       "      <td>Intel Core i7 7700HQ 2.8GHz</td>\n",
       "      <td>16</td>\n",
       "      <td>256GB SSD +  1TB HDD</td>\n",
       "      <td>Nvidia GeForce GTX 1070</td>\n",
       "      <td>Windows 10</td>\n",
       "      <td>2.9</td>\n",
       "      <td>113060.16</td>\n",
       "      <td>0</td>\n",
       "      <td>0</td>\n",
       "      <td>1920</td>\n",
       "      <td>1080</td>\n",
       "      <td>Intel Core i7</td>\n",
       "    </tr>\n",
       "  </tbody>\n",
       "</table>\n",
       "</div>"
      ],
      "text/plain": [
       "    Company TypeName  Inches   ScreenResolution                          Cpu  \\\n",
       "301    Asus   Gaming    17.3  Full HD 1920x1080  Intel Core i7 7700HQ 2.8GHz   \n",
       "\n",
       "     Ram                Memory                      Gpu       OpSys  Weight  \\\n",
       "301   16  256GB SSD +  1TB HDD  Nvidia GeForce GTX 1070  Windows 10     2.9   \n",
       "\n",
       "         Price  IPS  Touchscreen  X_res  Y_res       cpu name  \n",
       "301  113060.16    0            0   1920   1080  Intel Core i7  "
      ]
     },
     "execution_count": 57,
     "metadata": {},
     "output_type": "execute_result"
    }
   ],
   "source": [
    "data.sample()"
   ]
  },
  {
   "cell_type": "code",
   "execution_count": 58,
   "id": "5d4fcc41",
   "metadata": {},
   "outputs": [
    {
     "data": {
      "text/plain": [
       "<AxesSubplot:xlabel='Ram', ylabel='Price'>"
      ]
     },
     "execution_count": 58,
     "metadata": {},
     "output_type": "execute_result"
    },
    {
     "data": {
      "image/png": "[encoded data removed]",
      "text/plain": [
       "<Figure size 432x288 with 1 Axes>"
      ]
     },
     "metadata": {
      "needs_background": "light"
     },
     "output_type": "display_data"
    }
   ],
   "source": [
    "sns.barplot(data= data , x = 'Ram' , y = 'Price')"
   ]
  },
  {
   "cell_type": "code",
   "execution_count": 59,
   "id": "5a287da7",
   "metadata": {},
   "outputs": [
    {
     "data": {
      "text/plain": [
       "<AxesSubplot:>"
      ]
     },
     "execution_count": 59,
     "metadata": {},
     "output_type": "execute_result"
    },
    {
     "data": {
      "image/png": "[encoded data removed]",
      "text/plain": [
       "<Figure size 432x288 with 1 Axes>"
      ]
     },
     "metadata": {
      "needs_background": "light"
     },
     "output_type": "display_data"
    }
   ],
   "source": [
    "data.Ram.value_counts().plot(kind = 'bar')"
   ]
  },
  {
   "cell_type": "code",
   "execution_count": 60,
   "id": "0185ae58",
   "metadata": {},
   "outputs": [
    {
     "data": {
      "text/plain": [
       "256GB SSD                        412\n",
       "1TB HDD                          223\n",
       "500GB HDD                        132\n",
       "512GB SSD                        118\n",
       "128GB SSD +  1TB HDD              94\n",
       "128GB SSD                         76\n",
       "256GB SSD +  1TB HDD              73\n",
       "32GB Flash Storage                38\n",
       "2TB HDD                           16\n",
       "64GB Flash Storage                15\n",
       "512GB SSD +  1TB HDD              14\n",
       "1TB SSD                           14\n",
       "256GB SSD +  2TB HDD              10\n",
       "1.0TB Hybrid                       9\n",
       "256GB Flash Storage                8\n",
       "16GB Flash Storage                 7\n",
       "32GB SSD                           6\n",
       "180GB SSD                          5\n",
       "128GB Flash Storage                4\n",
       "512GB SSD +  2TB HDD               3\n",
       "16GB SSD                           3\n",
       "256GB SSD +  256GB SSD             2\n",
       "256GB SSD +  500GB HDD             2\n",
       "128GB SSD +  2TB HDD               2\n",
       "1TB SSD +  1TB HDD                 2\n",
       "512GB Flash Storage                2\n",
       "512GB SSD +  256GB SSD             1\n",
       "128GB HDD                          1\n",
       "512GB SSD +  1.0TB Hybrid          1\n",
       "64GB SSD                           1\n",
       "1TB HDD +  1TB HDD                 1\n",
       "512GB SSD +  512GB SSD             1\n",
       "240GB SSD                          1\n",
       "32GB HDD                           1\n",
       "508GB Hybrid                       1\n",
       "8GB SSD                            1\n",
       "256GB SSD +  1.0TB Hybrid          1\n",
       "1.0TB HDD                          1\n",
       "64GB Flash Storage +  1TB HDD      1\n",
       "Name: Memory, dtype: int64"
      ]
     },
     "execution_count": 60,
     "metadata": {},
     "output_type": "execute_result"
    }
   ],
   "source": [
    "data.Memory.value_counts()"
   ]
  },
  {
   "cell_type": "code",
   "execution_count": 61,
   "id": "d7b40b41",
   "metadata": {},
   "outputs": [],
   "source": [
    "data['Memory'] = data['Memory'].astype(str).replace('\\.0', '', regex=True)"
   ]
  },
  {
   "cell_type": "code",
   "execution_count": 62,
   "id": "09400695",
   "metadata": {},
   "outputs": [
    {
     "data": {
      "text/plain": [
       "256GB SSD                        412\n",
       "1TB HDD                          224\n",
       "500GB HDD                        132\n",
       "512GB SSD                        118\n",
       "128GB SSD +  1TB HDD              94\n",
       "128GB SSD                         76\n",
       "256GB SSD +  1TB HDD              73\n",
       "32GB Flash Storage                38\n",
       "2TB HDD                           16\n",
       "64GB Flash Storage                15\n",
       "512GB SSD +  1TB HDD              14\n",
       "1TB SSD                           14\n",
       "256GB SSD +  2TB HDD              10\n",
       "1TB Hybrid                         9\n",
       "256GB Flash Storage                8\n",
       "16GB Flash Storage                 7\n",
       "32GB SSD                           6\n",
       "180GB SSD                          5\n",
       "128GB Flash Storage                4\n",
       "16GB SSD                           3\n",
       "512GB SSD +  2TB HDD               3\n",
       "512GB Flash Storage                2\n",
       "1TB SSD +  1TB HDD                 2\n",
       "128GB SSD +  2TB HDD               2\n",
       "256GB SSD +  256GB SSD             2\n",
       "256GB SSD +  500GB HDD             2\n",
       "256GB SSD +  1TB Hybrid            1\n",
       "512GB SSD +  256GB SSD             1\n",
       "512GB SSD +  1TB Hybrid            1\n",
       "240GB SSD                          1\n",
       "128GB HDD                          1\n",
       "64GB Flash Storage +  1TB HDD      1\n",
       "64GB SSD                           1\n",
       "1TB HDD +  1TB HDD                 1\n",
       "508GB Hybrid                       1\n",
       "32GB HDD                           1\n",
       "512GB SSD +  512GB SSD             1\n",
       "8GB SSD                            1\n",
       "Name: Memory, dtype: int64"
      ]
     },
     "execution_count": 62,
     "metadata": {},
     "output_type": "execute_result"
    }
   ],
   "source": [
    "data.Memory.value_counts()"
   ]
  },
  {
   "cell_type": "code",
   "execution_count": 63,
   "id": "1a16d407",
   "metadata": {},
   "outputs": [],
   "source": [
    "data[\"Memory\"] = data[\"Memory\"].str.replace('GB', '')\n",
    "data[\"Memory\"] = data[\"Memory\"].str.replace('TB', '000')\n",
    "New_Memory = data[\"Memory\"].str.split(\"+\", n = 1, expand = True)"
   ]
  },
  {
   "cell_type": "code",
   "execution_count": 64,
   "id": "2c5aab67",
   "metadata": {},
   "outputs": [
    {
     "data": {
      "text/plain": [
       "0              128 SSD\n",
       "1    128 Flash Storage\n",
       "2              256 SSD\n",
       "3              512 SSD\n",
       "4              256 SSD\n",
       "Name: Memory, dtype: object"
      ]
     },
     "execution_count": 64,
     "metadata": {},
     "output_type": "execute_result"
    }
   ],
   "source": [
    "data.Memory.head()"
   ]
  },
  {
   "cell_type": "code",
   "execution_count": 65,
   "id": "00b12df9",
   "metadata": {},
   "outputs": [
    {
     "data": {
      "text/html": [
       "<div>\n",
       "<style scoped>\n",
       "    .dataframe tbody tr th:only-of-type {\n",
       "        vertical-align: middle;\n",
       "    }\n",
       "\n",
       "    .dataframe tbody tr th {\n",
       "        vertical-align: top;\n",
       "    }\n",
       "\n",
       "    .dataframe thead th {\n",
       "        text-align: right;\n",
       "    }\n",
       "</style>\n",
       "<table border=\"1\" class=\"dataframe\">\n",
       "  <thead>\n",
       "    <tr style=\"text-align: right;\">\n",
       "      <th></th>\n",
       "      <th>0</th>\n",
       "      <th>1</th>\n",
       "    </tr>\n",
       "  </thead>\n",
       "  <tbody>\n",
       "    <tr>\n",
       "      <th>0</th>\n",
       "      <td>128 SSD</td>\n",
       "      <td>None</td>\n",
       "    </tr>\n",
       "    <tr>\n",
       "      <th>1</th>\n",
       "      <td>128 Flash Storage</td>\n",
       "      <td>None</td>\n",
       "    </tr>\n",
       "    <tr>\n",
       "      <th>2</th>\n",
       "      <td>256 SSD</td>\n",
       "      <td>None</td>\n",
       "    </tr>\n",
       "    <tr>\n",
       "      <th>3</th>\n",
       "      <td>512 SSD</td>\n",
       "      <td>None</td>\n",
       "    </tr>\n",
       "    <tr>\n",
       "      <th>4</th>\n",
       "      <td>256 SSD</td>\n",
       "      <td>None</td>\n",
       "    </tr>\n",
       "    <tr>\n",
       "      <th>5</th>\n",
       "      <td>500 HDD</td>\n",
       "      <td>None</td>\n",
       "    </tr>\n",
       "    <tr>\n",
       "      <th>6</th>\n",
       "      <td>256 Flash Storage</td>\n",
       "      <td>None</td>\n",
       "    </tr>\n",
       "    <tr>\n",
       "      <th>7</th>\n",
       "      <td>256 Flash Storage</td>\n",
       "      <td>None</td>\n",
       "    </tr>\n",
       "    <tr>\n",
       "      <th>8</th>\n",
       "      <td>512 SSD</td>\n",
       "      <td>None</td>\n",
       "    </tr>\n",
       "    <tr>\n",
       "      <th>9</th>\n",
       "      <td>256 SSD</td>\n",
       "      <td>None</td>\n",
       "    </tr>\n",
       "  </tbody>\n",
       "</table>\n",
       "</div>"
      ],
      "text/plain": [
       "                   0     1\n",
       "0            128 SSD  None\n",
       "1  128 Flash Storage  None\n",
       "2            256 SSD  None\n",
       "3            512 SSD  None\n",
       "4            256 SSD  None\n",
       "5            500 HDD  None\n",
       "6  256 Flash Storage  None\n",
       "7  256 Flash Storage  None\n",
       "8            512 SSD  None\n",
       "9            256 SSD  None"
      ]
     },
     "execution_count": 65,
     "metadata": {},
     "output_type": "execute_result"
    }
   ],
   "source": [
    "New_Memory.head(10)"
   ]
  },
  {
   "cell_type": "code",
   "execution_count": 66,
   "id": "cfe7a648",
   "metadata": {},
   "outputs": [
    {
     "data": {
      "text/plain": [
       "  1000 HDD       185\n",
       "  2000 HDD        15\n",
       "  256 SSD          3\n",
       "  1000 Hybrid      2\n",
       "  500 HDD          2\n",
       "  512 SSD          1\n",
       "Name: 1, dtype: int64"
      ]
     },
     "execution_count": 66,
     "metadata": {},
     "output_type": "execute_result"
    }
   ],
   "source": [
    "New_Memory[1].value_counts()"
   ]
  },
  {
   "cell_type": "code",
   "execution_count": 67,
   "id": "0b07b3cd",
   "metadata": {},
   "outputs": [],
   "source": [
    "data[\"first\"]= New_Memory[0]\n",
    "data[\"first\"]=data[\"first\"].str.strip()\n",
    "data[\"second\"]= New_Memory[1]"
   ]
  },
  {
   "cell_type": "code",
   "execution_count": 68,
   "id": "df2ee67c",
   "metadata": {},
   "outputs": [
    {
     "data": {
      "text/plain": [
       "0                 128 SSD\n",
       "1       128 Flash Storage\n",
       "2                 256 SSD\n",
       "3                 512 SSD\n",
       "4                 256 SSD\n",
       "              ...        \n",
       "1298              128 SSD\n",
       "1299              512 SSD\n",
       "1300     64 Flash Storage\n",
       "1301             1000 HDD\n",
       "1302              500 HDD\n",
       "Name: first, Length: 1303, dtype: object"
      ]
     },
     "execution_count": 68,
     "metadata": {},
     "output_type": "execute_result"
    }
   ],
   "source": [
    "data['first']"
   ]
  },
  {
   "cell_type": "code",
   "execution_count": 69,
   "id": "407b03c4",
   "metadata": {},
   "outputs": [],
   "source": [
    "data[\"Layer1HDD\"] = data[\"first\"].apply(lambda x: 1 if \"HDD\" in x else 0)\n",
    "data[\"Layer1SSD\"] = data[\"first\"].apply(lambda x: 1 if \"SSD\" in x else 0)\n",
    "data[\"Layer1Hybrid\"] = data[\"first\"].apply(lambda x: 1 if \"Hybrid\" in x else 0)\n",
    "data[\"Layer1Flash_Storage\"] = data[\"first\"].apply(lambda x: 1 if \"Flash Storage\" in x else 0)"
   ]
  },
  {
   "cell_type": "code",
   "execution_count": 70,
   "id": "f3b9371e",
   "metadata": {},
   "outputs": [
    {
     "data": {
      "text/html": [
       "<div>\n",
       "<style scoped>\n",
       "    .dataframe tbody tr th:only-of-type {\n",
       "        vertical-align: middle;\n",
       "    }\n",
       "\n",
       "    .dataframe tbody tr th {\n",
       "        vertical-align: top;\n",
       "    }\n",
       "\n",
       "    .dataframe thead th {\n",
       "        text-align: right;\n",
       "    }\n",
       "</style>\n",
       "<table border=\"1\" class=\"dataframe\">\n",
       "  <thead>\n",
       "    <tr style=\"text-align: right;\">\n",
       "      <th></th>\n",
       "      <th>Company</th>\n",
       "      <th>TypeName</th>\n",
       "      <th>Inches</th>\n",
       "      <th>ScreenResolution</th>\n",
       "      <th>Cpu</th>\n",
       "      <th>Ram</th>\n",
       "      <th>Memory</th>\n",
       "      <th>Gpu</th>\n",
       "      <th>OpSys</th>\n",
       "      <th>Weight</th>\n",
       "      <th>...</th>\n",
       "      <th>Touchscreen</th>\n",
       "      <th>X_res</th>\n",
       "      <th>Y_res</th>\n",
       "      <th>cpu name</th>\n",
       "      <th>first</th>\n",
       "      <th>second</th>\n",
       "      <th>Layer1HDD</th>\n",
       "      <th>Layer1SSD</th>\n",
       "      <th>Layer1Hybrid</th>\n",
       "      <th>Layer1Flash_Storage</th>\n",
       "    </tr>\n",
       "  </thead>\n",
       "  <tbody>\n",
       "    <tr>\n",
       "      <th>447</th>\n",
       "      <td>Dell</td>\n",
       "      <td>Workstation</td>\n",
       "      <td>15.6</td>\n",
       "      <td>Full HD 1920x1080</td>\n",
       "      <td>Intel Xeon E3-1505M V6 3GHz</td>\n",
       "      <td>8</td>\n",
       "      <td>64 Flash Storage +  1000 HDD</td>\n",
       "      <td>Nvidia Quadro M620</td>\n",
       "      <td>Windows 10</td>\n",
       "      <td>2.23</td>\n",
       "      <td>...</td>\n",
       "      <td>0</td>\n",
       "      <td>1920</td>\n",
       "      <td>1080</td>\n",
       "      <td>Intel Xeon E3-1505M</td>\n",
       "      <td>64 Flash Storage</td>\n",
       "      <td>1000 HDD</td>\n",
       "      <td>0</td>\n",
       "      <td>0</td>\n",
       "      <td>0</td>\n",
       "      <td>1</td>\n",
       "    </tr>\n",
       "    <tr>\n",
       "      <th>399</th>\n",
       "      <td>Lenovo</td>\n",
       "      <td>Ultrabook</td>\n",
       "      <td>14.0</td>\n",
       "      <td>IPS Panel 2560x1440</td>\n",
       "      <td>Intel Core i7 7500U 2.7GHz</td>\n",
       "      <td>16</td>\n",
       "      <td>1000 SSD</td>\n",
       "      <td>Intel HD Graphics 620</td>\n",
       "      <td>Windows 10</td>\n",
       "      <td>1.13</td>\n",
       "      <td>...</td>\n",
       "      <td>0</td>\n",
       "      <td>2560</td>\n",
       "      <td>1440</td>\n",
       "      <td>Intel Core i7</td>\n",
       "      <td>1000 SSD</td>\n",
       "      <td>None</td>\n",
       "      <td>0</td>\n",
       "      <td>1</td>\n",
       "      <td>0</td>\n",
       "      <td>0</td>\n",
       "    </tr>\n",
       "    <tr>\n",
       "      <th>701</th>\n",
       "      <td>Lenovo</td>\n",
       "      <td>Notebook</td>\n",
       "      <td>15.6</td>\n",
       "      <td>Full HD 1920x1080</td>\n",
       "      <td>AMD A9-Series 9420 2.9GHz</td>\n",
       "      <td>4</td>\n",
       "      <td>256 SSD</td>\n",
       "      <td>AMD Radeon 530</td>\n",
       "      <td>Windows 10</td>\n",
       "      <td>2.20</td>\n",
       "      <td>...</td>\n",
       "      <td>0</td>\n",
       "      <td>1920</td>\n",
       "      <td>1080</td>\n",
       "      <td>AMD A9-Series 9420</td>\n",
       "      <td>256 SSD</td>\n",
       "      <td>None</td>\n",
       "      <td>0</td>\n",
       "      <td>1</td>\n",
       "      <td>0</td>\n",
       "      <td>0</td>\n",
       "    </tr>\n",
       "    <tr>\n",
       "      <th>1171</th>\n",
       "      <td>HP</td>\n",
       "      <td>Notebook</td>\n",
       "      <td>15.6</td>\n",
       "      <td>Full HD 1920x1080</td>\n",
       "      <td>Intel Core i7 8550U 1.8GHz</td>\n",
       "      <td>16</td>\n",
       "      <td>512 SSD</td>\n",
       "      <td>Intel UHD Graphics 620</td>\n",
       "      <td>Windows 10</td>\n",
       "      <td>2.10</td>\n",
       "      <td>...</td>\n",
       "      <td>0</td>\n",
       "      <td>1920</td>\n",
       "      <td>1080</td>\n",
       "      <td>Intel Core i7</td>\n",
       "      <td>512 SSD</td>\n",
       "      <td>None</td>\n",
       "      <td>0</td>\n",
       "      <td>1</td>\n",
       "      <td>0</td>\n",
       "      <td>0</td>\n",
       "    </tr>\n",
       "    <tr>\n",
       "      <th>463</th>\n",
       "      <td>Lenovo</td>\n",
       "      <td>Notebook</td>\n",
       "      <td>14.0</td>\n",
       "      <td>IPS Panel Full HD 1920x1080</td>\n",
       "      <td>Intel Core i7 7500U 2.7GHz</td>\n",
       "      <td>8</td>\n",
       "      <td>512 SSD</td>\n",
       "      <td>AMD Radeon R7 M460</td>\n",
       "      <td>No OS</td>\n",
       "      <td>1.50</td>\n",
       "      <td>...</td>\n",
       "      <td>0</td>\n",
       "      <td>1920</td>\n",
       "      <td>1080</td>\n",
       "      <td>Intel Core i7</td>\n",
       "      <td>512 SSD</td>\n",
       "      <td>None</td>\n",
       "      <td>0</td>\n",
       "      <td>1</td>\n",
       "      <td>0</td>\n",
       "      <td>0</td>\n",
       "    </tr>\n",
       "  </tbody>\n",
       "</table>\n",
       "<p>5 rows × 22 columns</p>\n",
       "</div>"
      ],
      "text/plain": [
       "     Company     TypeName  Inches             ScreenResolution  \\\n",
       "447     Dell  Workstation    15.6            Full HD 1920x1080   \n",
       "399   Lenovo    Ultrabook    14.0          IPS Panel 2560x1440   \n",
       "701   Lenovo     Notebook    15.6            Full HD 1920x1080   \n",
       "1171      HP     Notebook    15.6            Full HD 1920x1080   \n",
       "463   Lenovo     Notebook    14.0  IPS Panel Full HD 1920x1080   \n",
       "\n",
       "                              Cpu  Ram                        Memory  \\\n",
       "447   Intel Xeon E3-1505M V6 3GHz    8  64 Flash Storage +  1000 HDD   \n",
       "399    Intel Core i7 7500U 2.7GHz   16                      1000 SSD   \n",
       "701     AMD A9-Series 9420 2.9GHz    4                       256 SSD   \n",
       "1171   Intel Core i7 8550U 1.8GHz   16                       512 SSD   \n",
       "463    Intel Core i7 7500U 2.7GHz    8                       512 SSD   \n",
       "\n",
       "                         Gpu       OpSys  Weight  ...  Touchscreen  X_res  \\\n",
       "447       Nvidia Quadro M620  Windows 10    2.23  ...            0   1920   \n",
       "399    Intel HD Graphics 620  Windows 10    1.13  ...            0   2560   \n",
       "701           AMD Radeon 530  Windows 10    2.20  ...            0   1920   \n",
       "1171  Intel UHD Graphics 620  Windows 10    2.10  ...            0   1920   \n",
       "463       AMD Radeon R7 M460       No OS    1.50  ...            0   1920   \n",
       "\n",
       "      Y_res             cpu name             first      second Layer1HDD  \\\n",
       "447    1080  Intel Xeon E3-1505M  64 Flash Storage    1000 HDD         0   \n",
       "399    1440        Intel Core i7          1000 SSD        None         0   \n",
       "701    1080   AMD A9-Series 9420           256 SSD        None         0   \n",
       "1171   1080        Intel Core i7           512 SSD        None         0   \n",
       "463    1080        Intel Core i7           512 SSD        None         0   \n",
       "\n",
       "     Layer1SSD  Layer1Hybrid  Layer1Flash_Storage  \n",
       "447          0             0                    1  \n",
       "399          1             0                    0  \n",
       "701          1             0                    0  \n",
       "1171         1             0                    0  \n",
       "463          1             0                    0  \n",
       "\n",
       "[5 rows x 22 columns]"
      ]
     },
     "execution_count": 70,
     "metadata": {},
     "output_type": "execute_result"
    }
   ],
   "source": [
    "data.sample(5)"
   ]
  },
  {
   "cell_type": "code",
   "execution_count": 71,
   "id": "a408b2f6",
   "metadata": {},
   "outputs": [
    {
     "name": "stderr",
     "output_type": "stream",
     "text": [
      "<ipython-input-71-257e917f94f0>:1: FutureWarning: The default value of regex will change from True to False in a future version.\n",
      "  data['first'] = data['first'].str.replace(r'\\D', '')\n"
     ]
    }
   ],
   "source": [
    "data['first'] = data['first'].str.replace(r'\\D', '')\n",
    "data[\"second\"].fillna(\"0\", inplace = True)"
   ]
  },
  {
   "cell_type": "code",
   "execution_count": 72,
   "id": "ef21aeb6",
   "metadata": {},
   "outputs": [
    {
     "data": {
      "text/html": [
       "<div>\n",
       "<style scoped>\n",
       "    .dataframe tbody tr th:only-of-type {\n",
       "        vertical-align: middle;\n",
       "    }\n",
       "\n",
       "    .dataframe tbody tr th {\n",
       "        vertical-align: top;\n",
       "    }\n",
       "\n",
       "    .dataframe thead th {\n",
       "        text-align: right;\n",
       "    }\n",
       "</style>\n",
       "<table border=\"1\" class=\"dataframe\">\n",
       "  <thead>\n",
       "    <tr style=\"text-align: right;\">\n",
       "      <th></th>\n",
       "      <th>Company</th>\n",
       "      <th>TypeName</th>\n",
       "      <th>Inches</th>\n",
       "      <th>ScreenResolution</th>\n",
       "      <th>Cpu</th>\n",
       "      <th>Ram</th>\n",
       "      <th>Memory</th>\n",
       "      <th>Gpu</th>\n",
       "      <th>OpSys</th>\n",
       "      <th>Weight</th>\n",
       "      <th>...</th>\n",
       "      <th>Touchscreen</th>\n",
       "      <th>X_res</th>\n",
       "      <th>Y_res</th>\n",
       "      <th>cpu name</th>\n",
       "      <th>first</th>\n",
       "      <th>second</th>\n",
       "      <th>Layer1HDD</th>\n",
       "      <th>Layer1SSD</th>\n",
       "      <th>Layer1Hybrid</th>\n",
       "      <th>Layer1Flash_Storage</th>\n",
       "    </tr>\n",
       "  </thead>\n",
       "  <tbody>\n",
       "    <tr>\n",
       "      <th>957</th>\n",
       "      <td>HP</td>\n",
       "      <td>2 in 1 Convertible</td>\n",
       "      <td>11.6</td>\n",
       "      <td>Touchscreen 1366x768</td>\n",
       "      <td>Intel Pentium Quad Core N4200 1.1GHz</td>\n",
       "      <td>4</td>\n",
       "      <td>256 SSD</td>\n",
       "      <td>Intel HD Graphics 505</td>\n",
       "      <td>Windows 10</td>\n",
       "      <td>1.45</td>\n",
       "      <td>...</td>\n",
       "      <td>1</td>\n",
       "      <td>1366</td>\n",
       "      <td>768</td>\n",
       "      <td>Intel Pentium Quad</td>\n",
       "      <td>256</td>\n",
       "      <td>0</td>\n",
       "      <td>0</td>\n",
       "      <td>1</td>\n",
       "      <td>0</td>\n",
       "      <td>0</td>\n",
       "    </tr>\n",
       "  </tbody>\n",
       "</table>\n",
       "<p>1 rows × 22 columns</p>\n",
       "</div>"
      ],
      "text/plain": [
       "    Company            TypeName  Inches      ScreenResolution  \\\n",
       "957      HP  2 in 1 Convertible    11.6  Touchscreen 1366x768   \n",
       "\n",
       "                                      Cpu  Ram   Memory  \\\n",
       "957  Intel Pentium Quad Core N4200 1.1GHz    4  256 SSD   \n",
       "\n",
       "                       Gpu       OpSys  Weight  ...  Touchscreen  X_res  \\\n",
       "957  Intel HD Graphics 505  Windows 10    1.45  ...            1   1366   \n",
       "\n",
       "     Y_res            cpu name  first second Layer1HDD Layer1SSD  \\\n",
       "957    768  Intel Pentium Quad    256      0         0         1   \n",
       "\n",
       "     Layer1Hybrid  Layer1Flash_Storage  \n",
       "957             0                    0  \n",
       "\n",
       "[1 rows x 22 columns]"
      ]
     },
     "execution_count": 72,
     "metadata": {},
     "output_type": "execute_result"
    }
   ],
   "source": [
    "data.sample()"
   ]
  },
  {
   "cell_type": "code",
   "execution_count": 73,
   "id": "4e70a4c8",
   "metadata": {},
   "outputs": [
    {
     "data": {
      "text/plain": [
       "0                1095\n",
       "  1000 HDD        185\n",
       "  2000 HDD         15\n",
       "  256 SSD           3\n",
       "  1000 Hybrid       2\n",
       "  500 HDD           2\n",
       "  512 SSD           1\n",
       "Name: second, dtype: int64"
      ]
     },
     "execution_count": 73,
     "metadata": {},
     "output_type": "execute_result"
    }
   ],
   "source": [
    "data['second'].value_counts()"
   ]
  },
  {
   "cell_type": "code",
   "execution_count": 74,
   "id": "68bd507a",
   "metadata": {},
   "outputs": [],
   "source": [
    "data[\"Layer2HDD\"] = data[\"second\"].apply(lambda x: 1 if \"HDD\" in x else 0)\n",
    "data[\"Layer2SSD\"] = data[\"second\"].apply(lambda x: 1 if \"SSD\" in x else 0)\n",
    "data[\"Layer2Hybrid\"] = data[\"second\"].apply(lambda x: 1 if \"Hybrid\" in x else 0)\n",
    "data[\"Layer2Flash_Storage\"] = data[\"second\"].apply(lambda x: 1 if \"Flash Storage\" in x else 0)"
   ]
  },
  {
   "cell_type": "code",
   "execution_count": 75,
   "id": "311d3e82",
   "metadata": {},
   "outputs": [
    {
     "name": "stderr",
     "output_type": "stream",
     "text": [
      "<ipython-input-75-7850c60e1031>:1: FutureWarning: The default value of regex will change from True to False in a future version.\n",
      "  data['second'] = data['second'].str.replace(r'\\D', '')\n"
     ]
    }
   ],
   "source": [
    "data['second'] = data['second'].str.replace(r'\\D', '')\n",
    "data[\"first\"] = data[\"first\"].astype(int)\n",
    "data[\"second\"] = data[\"second\"].astype(int)"
   ]
  },
  {
   "cell_type": "code",
   "execution_count": 76,
   "id": "bb18641c",
   "metadata": {},
   "outputs": [],
   "source": [
    "data[\"HDD\"]=(data[\"first\"]*data[\"Layer1HDD\"]+data[\"second\"]*data[\"Layer2HDD\"])\n",
    "data[\"SSD\"]=(data[\"first\"]*data[\"Layer1SSD\"]+data[\"second\"]*data[\"Layer2SSD\"])\n",
    "data[\"Hybrid\"]=(data[\"first\"]*data[\"Layer1Hybrid\"]+data[\"second\"]*data[\"Layer2Hybrid\"])\n",
    "data[\"Flash_Storage\"]=(data[\"first\"]*data[\"Layer1Flash_Storage\"]+data[\"second\"]*data[\"Layer2Flash_Storage\"])"
   ]
  },
  {
   "cell_type": "code",
   "execution_count": 77,
   "id": "cb5c43b3",
   "metadata": {},
   "outputs": [
    {
     "data": {
      "text/html": [
       "<div>\n",
       "<style scoped>\n",
       "    .dataframe tbody tr th:only-of-type {\n",
       "        vertical-align: middle;\n",
       "    }\n",
       "\n",
       "    .dataframe tbody tr th {\n",
       "        vertical-align: top;\n",
       "    }\n",
       "\n",
       "    .dataframe thead th {\n",
       "        text-align: right;\n",
       "    }\n",
       "</style>\n",
       "<table border=\"1\" class=\"dataframe\">\n",
       "  <thead>\n",
       "    <tr style=\"text-align: right;\">\n",
       "      <th></th>\n",
       "      <th>Company</th>\n",
       "      <th>TypeName</th>\n",
       "      <th>Inches</th>\n",
       "      <th>ScreenResolution</th>\n",
       "      <th>Cpu</th>\n",
       "      <th>Ram</th>\n",
       "      <th>Memory</th>\n",
       "      <th>Gpu</th>\n",
       "      <th>OpSys</th>\n",
       "      <th>Weight</th>\n",
       "      <th>...</th>\n",
       "      <th>Layer1Hybrid</th>\n",
       "      <th>Layer1Flash_Storage</th>\n",
       "      <th>Layer2HDD</th>\n",
       "      <th>Layer2SSD</th>\n",
       "      <th>Layer2Hybrid</th>\n",
       "      <th>Layer2Flash_Storage</th>\n",
       "      <th>HDD</th>\n",
       "      <th>SSD</th>\n",
       "      <th>Hybrid</th>\n",
       "      <th>Flash_Storage</th>\n",
       "    </tr>\n",
       "  </thead>\n",
       "  <tbody>\n",
       "    <tr>\n",
       "      <th>1031</th>\n",
       "      <td>Acer</td>\n",
       "      <td>Notebook</td>\n",
       "      <td>15.6</td>\n",
       "      <td>1366x768</td>\n",
       "      <td>AMD A9-Series 9420 3GHz</td>\n",
       "      <td>6</td>\n",
       "      <td>1000 HDD</td>\n",
       "      <td>AMD Radeon R5</td>\n",
       "      <td>Windows 10</td>\n",
       "      <td>2.1</td>\n",
       "      <td>...</td>\n",
       "      <td>0</td>\n",
       "      <td>0</td>\n",
       "      <td>0</td>\n",
       "      <td>0</td>\n",
       "      <td>0</td>\n",
       "      <td>0</td>\n",
       "      <td>1000</td>\n",
       "      <td>0</td>\n",
       "      <td>0</td>\n",
       "      <td>0</td>\n",
       "    </tr>\n",
       "  </tbody>\n",
       "</table>\n",
       "<p>1 rows × 30 columns</p>\n",
       "</div>"
      ],
      "text/plain": [
       "     Company  TypeName  Inches ScreenResolution                      Cpu  Ram  \\\n",
       "1031    Acer  Notebook    15.6         1366x768  AMD A9-Series 9420 3GHz    6   \n",
       "\n",
       "        Memory            Gpu       OpSys  Weight  ...  Layer1Hybrid  \\\n",
       "1031  1000 HDD  AMD Radeon R5  Windows 10     2.1  ...             0   \n",
       "\n",
       "      Layer1Flash_Storage  Layer2HDD  Layer2SSD  Layer2Hybrid  \\\n",
       "1031                    0          0          0             0   \n",
       "\n",
       "     Layer2Flash_Storage   HDD  SSD  Hybrid  Flash_Storage  \n",
       "1031                   0  1000    0       0              0  \n",
       "\n",
       "[1 rows x 30 columns]"
      ]
     },
     "execution_count": 77,
     "metadata": {},
     "output_type": "execute_result"
    }
   ],
   "source": [
    "data.sample()"
   ]
  },
  {
   "cell_type": "code",
   "execution_count": 78,
   "id": "83a058a0",
   "metadata": {},
   "outputs": [
    {
     "data": {
      "text/plain": [
       "Inches                 0.068197\n",
       "Ram                    0.743007\n",
       "Weight                 0.210370\n",
       "Price                  1.000000\n",
       "IPS                    0.252208\n",
       "Touchscreen            0.191226\n",
       "X_res                  0.363806\n",
       "Y_res                  0.552809\n",
       "first                 -0.122365\n",
       "second                 0.295004\n",
       "Layer1HDD             -0.426121\n",
       "Layer1SSD              0.513609\n",
       "Layer1Hybrid          -0.039386\n",
       "Layer1Flash_Storage   -0.210823\n",
       "Layer2HDD              0.298374\n",
       "Layer2SSD              0.023611\n",
       "Layer2Hybrid           0.105004\n",
       "Layer2Flash_Storage         NaN\n",
       "HDD                   -0.096441\n",
       "SSD                    0.670799\n",
       "Hybrid                 0.007989\n",
       "Flash_Storage         -0.040511\n",
       "Name: Price, dtype: float64"
      ]
     },
     "execution_count": 78,
     "metadata": {},
     "output_type": "execute_result"
    }
   ],
   "source": [
    "data.corr()['Price']"
   ]
  },
  {
   "cell_type": "code",
   "execution_count": 79,
   "id": "1854154d",
   "metadata": {},
   "outputs": [],
   "source": [
    "data.drop(columns=['first' , 'second' ,'Layer1HDD' ,'Layer1Hybrid' , 'Layer1Flash_Storage' ,'Layer2HDD' , 'Layer2SSD'  ,'Layer2Flash_Storage' , 'Hybrid' , 'HDD' , 'Flash_Storage'] , axis = 1 , inplace= True )"
   ]
  },
  {
   "cell_type": "code",
   "execution_count": 80,
   "id": "52b48e92",
   "metadata": {},
   "outputs": [
    {
     "data": {
      "text/plain": [
       "Inches          0.068197\n",
       "Ram             0.743007\n",
       "Weight          0.210370\n",
       "Price           1.000000\n",
       "IPS             0.252208\n",
       "Touchscreen     0.191226\n",
       "X_res           0.363806\n",
       "Y_res           0.552809\n",
       "Layer1SSD       0.513609\n",
       "Layer2Hybrid    0.105004\n",
       "SSD             0.670799\n",
       "Name: Price, dtype: float64"
      ]
     },
     "execution_count": 80,
     "metadata": {},
     "output_type": "execute_result"
    }
   ],
   "source": [
    "data.corr()['Price']"
   ]
  },
  {
   "cell_type": "code",
   "execution_count": 81,
   "id": "79ea14c5",
   "metadata": {},
   "outputs": [],
   "source": [
    "data.drop('Memory' , axis= 1 , inplace=True) "
   ]
  },
  {
   "cell_type": "code",
   "execution_count": 82,
   "id": "548e828c",
   "metadata": {},
   "outputs": [
    {
     "data": {
      "text/plain": [
       "Intel HD Graphics 620       281\n",
       "Intel HD Graphics 520       185\n",
       "Intel UHD Graphics 620       68\n",
       "Nvidia GeForce GTX 1050      66\n",
       "Nvidia GeForce GTX 1060      48\n",
       "                           ... \n",
       "AMD Radeon R7                 1\n",
       "Nvidia GeForce GTX 1070M      1\n",
       "AMD Radeon R3                 1\n",
       "AMD Radeon 540                1\n",
       "Nvidia GeForce GTX 930MX      1\n",
       "Name: Gpu, Length: 110, dtype: int64"
      ]
     },
     "execution_count": 82,
     "metadata": {},
     "output_type": "execute_result"
    }
   ],
   "source": [
    "data.Gpu.value_counts()"
   ]
  },
  {
   "cell_type": "code",
   "execution_count": 83,
   "id": "ce167f4c",
   "metadata": {},
   "outputs": [],
   "source": [
    "data['Gpu Name'] = data['Gpu'].apply(lambda x :x.split()[0])"
   ]
  },
  {
   "cell_type": "code",
   "execution_count": 84,
   "id": "d4217da8",
   "metadata": {},
   "outputs": [
    {
     "data": {
      "text/plain": [
       "Intel     722\n",
       "Nvidia    400\n",
       "AMD       180\n",
       "ARM         1\n",
       "Name: Gpu Name, dtype: int64"
      ]
     },
     "execution_count": 84,
     "metadata": {},
     "output_type": "execute_result"
    }
   ],
   "source": [
    "data['Gpu Name'].value_counts()"
   ]
  },
  {
   "cell_type": "code",
   "execution_count": 85,
   "id": "6b20dcaa",
   "metadata": {},
   "outputs": [
    {
     "data": {
      "text/plain": [
       "<AxesSubplot:xlabel='Gpu Name', ylabel='Price'>"
      ]
     },
     "execution_count": 85,
     "metadata": {},
     "output_type": "execute_result"
    },
    {
     "data": {
      "image/png": "[encoded data removed]",
      "text/plain": [
       "<Figure size 432x288 with 1 Axes>"
      ]
     },
     "metadata": {
      "needs_background": "light"
     },
     "output_type": "display_data"
    }
   ],
   "source": [
    "sns.barplot(x=data['Gpu Name'],y=data['Price'])"
   ]
  },
  {
   "cell_type": "code",
   "execution_count": 86,
   "id": "c348f664",
   "metadata": {},
   "outputs": [
    {
     "data": {
      "text/plain": [
       "<AxesSubplot:>"
      ]
     },
     "execution_count": 86,
     "metadata": {},
     "output_type": "execute_result"
    },
    {
     "data": {
      "image/png": "[encoded data removed]",
      "text/plain": [
       "<Figure size 432x288 with 1 Axes>"
      ]
     },
     "metadata": {
      "needs_background": "light"
     },
     "output_type": "display_data"
    }
   ],
   "source": [
    "data['Gpu Name'].value_counts().plot(kind = 'bar')"
   ]
  },
  {
   "cell_type": "code",
   "execution_count": 87,
   "id": "8df047d0",
   "metadata": {},
   "outputs": [],
   "source": [
    "data.drop(columns=['Gpu'],inplace=True)"
   ]
  },
  {
   "cell_type": "code",
   "execution_count": 88,
   "id": "bdbce2d1",
   "metadata": {},
   "outputs": [
    {
     "data": {
      "text/plain": [
       "Windows 10      1072\n",
       "No OS             66\n",
       "Linux             62\n",
       "Windows 7         45\n",
       "Chrome OS         27\n",
       "macOS             13\n",
       "Mac OS X           8\n",
       "Windows 10 S       8\n",
       "Android            2\n",
       "Name: OpSys, dtype: int64"
      ]
     },
     "execution_count": 88,
     "metadata": {},
     "output_type": "execute_result"
    }
   ],
   "source": [
    "data['OpSys'].value_counts()"
   ]
  },
  {
   "cell_type": "code",
   "execution_count": 89,
   "id": "3fb29112",
   "metadata": {},
   "outputs": [],
   "source": [
    "def os(os_col):\n",
    "    if os_col == 'Windows 10' or os_col == 'Windows 7' or os_col == 'Windows 10 S':\n",
    "        return 'Windows'\n",
    "    elif os_col == 'macOS' or os_col == 'Mac OS X':\n",
    "        return 'Mac'\n",
    "    else:\n",
    "        return 'Others'"
   ]
  },
  {
   "cell_type": "code",
   "execution_count": 90,
   "id": "451eafa3",
   "metadata": {},
   "outputs": [],
   "source": [
    "data['OpSys'] = data['OpSys'].apply(os)"
   ]
  },
  {
   "cell_type": "code",
   "execution_count": 91,
   "id": "0a78434f",
   "metadata": {},
   "outputs": [
    {
     "data": {
      "text/html": [
       "<div>\n",
       "<style scoped>\n",
       "    .dataframe tbody tr th:only-of-type {\n",
       "        vertical-align: middle;\n",
       "    }\n",
       "\n",
       "    .dataframe tbody tr th {\n",
       "        vertical-align: top;\n",
       "    }\n",
       "\n",
       "    .dataframe thead th {\n",
       "        text-align: right;\n",
       "    }\n",
       "</style>\n",
       "<table border=\"1\" class=\"dataframe\">\n",
       "  <thead>\n",
       "    <tr style=\"text-align: right;\">\n",
       "      <th></th>\n",
       "      <th>Company</th>\n",
       "      <th>TypeName</th>\n",
       "      <th>Inches</th>\n",
       "      <th>ScreenResolution</th>\n",
       "      <th>Cpu</th>\n",
       "      <th>Ram</th>\n",
       "      <th>OpSys</th>\n",
       "      <th>Weight</th>\n",
       "      <th>Price</th>\n",
       "      <th>IPS</th>\n",
       "      <th>Touchscreen</th>\n",
       "      <th>X_res</th>\n",
       "      <th>Y_res</th>\n",
       "      <th>cpu name</th>\n",
       "      <th>Layer1SSD</th>\n",
       "      <th>Layer2Hybrid</th>\n",
       "      <th>SSD</th>\n",
       "      <th>Gpu Name</th>\n",
       "    </tr>\n",
       "  </thead>\n",
       "  <tbody>\n",
       "    <tr>\n",
       "      <th>190</th>\n",
       "      <td>Lenovo</td>\n",
       "      <td>2 in 1 Convertible</td>\n",
       "      <td>14.0</td>\n",
       "      <td>Touchscreen 2560x1440</td>\n",
       "      <td>Intel Core i7 7500U 2.7GHz</td>\n",
       "      <td>16</td>\n",
       "      <td>Windows</td>\n",
       "      <td>1.42</td>\n",
       "      <td>150462.72</td>\n",
       "      <td>0</td>\n",
       "      <td>1</td>\n",
       "      <td>2560</td>\n",
       "      <td>1440</td>\n",
       "      <td>Intel Core i7</td>\n",
       "      <td>1</td>\n",
       "      <td>0</td>\n",
       "      <td>1000</td>\n",
       "      <td>Intel</td>\n",
       "    </tr>\n",
       "  </tbody>\n",
       "</table>\n",
       "</div>"
      ],
      "text/plain": [
       "    Company            TypeName  Inches       ScreenResolution  \\\n",
       "190  Lenovo  2 in 1 Convertible    14.0  Touchscreen 2560x1440   \n",
       "\n",
       "                            Cpu  Ram    OpSys  Weight      Price  IPS  \\\n",
       "190  Intel Core i7 7500U 2.7GHz   16  Windows    1.42  150462.72    0   \n",
       "\n",
       "     Touchscreen  X_res  Y_res       cpu name  Layer1SSD  Layer2Hybrid   SSD  \\\n",
       "190            1   2560   1440  Intel Core i7          1             0  1000   \n",
       "\n",
       "    Gpu Name  \n",
       "190    Intel  "
      ]
     },
     "execution_count": 91,
     "metadata": {},
     "output_type": "execute_result"
    }
   ],
   "source": [
    "data.sample()"
   ]
  },
  {
   "cell_type": "code",
   "execution_count": 92,
   "id": "fdf0e1f7",
   "metadata": {},
   "outputs": [
    {
     "name": "stderr",
     "output_type": "stream",
     "text": [
      "C:\\Users\\96654\\anaconda3\\lib\\site-packages\\seaborn\\distributions.py:2557: FutureWarning: `distplot` is a deprecated function and will be removed in a future version. Please adapt your code to use either `displot` (a figure-level function with similar flexibility) or `histplot` (an axes-level function for histograms).\n",
      "  warnings.warn(msg, FutureWarning)\n"
     ]
    },
    {
     "data": {
      "text/plain": [
       "<AxesSubplot:xlabel='Weight', ylabel='Density'>"
      ]
     },
     "execution_count": 92,
     "metadata": {},
     "output_type": "execute_result"
    },
    {
     "data": {
      "image/png": "[encoded data removed]",
      "text/plain": [
       "<Figure size 432x288 with 1 Axes>"
      ]
     },
     "metadata": {
      "needs_background": "light"
     },
     "output_type": "display_data"
    }
   ],
   "source": [
    "sns.distplot(data['Weight'])"
   ]
  },
  {
   "cell_type": "code",
   "execution_count": 93,
   "id": "7992eaf6",
   "metadata": {},
   "outputs": [
    {
     "data": {
      "text/plain": [
       "<AxesSubplot:xlabel='Weight', ylabel='Price'>"
      ]
     },
     "execution_count": 93,
     "metadata": {},
     "output_type": "execute_result"
    },
    {
     "data": {
      "image/png": "[encoded data removed]",
      "text/plain": [
       "<Figure size 432x288 with 1 Axes>"
      ]
     },
     "metadata": {
      "needs_background": "light"
     },
     "output_type": "display_data"
    }
   ],
   "source": [
    "sns.scatterplot(data = data , x = data['Weight'] , y = data['Price'])"
   ]
  },
  {
   "cell_type": "code",
   "execution_count": 94,
   "id": "a7ff57e1",
   "metadata": {},
   "outputs": [],
   "source": [
    "data = pd.get_dummies(data , drop_first=True)"
   ]
  },
  {
   "cell_type": "code",
   "execution_count": 95,
   "id": "c1a14555",
   "metadata": {},
   "outputs": [
    {
     "data": {
      "text/html": [
       "<div>\n",
       "<style scoped>\n",
       "    .dataframe tbody tr th:only-of-type {\n",
       "        vertical-align: middle;\n",
       "    }\n",
       "\n",
       "    .dataframe tbody tr th {\n",
       "        vertical-align: top;\n",
       "    }\n",
       "\n",
       "    .dataframe thead th {\n",
       "        text-align: right;\n",
       "    }\n",
       "</style>\n",
       "<table border=\"1\" class=\"dataframe\">\n",
       "  <thead>\n",
       "    <tr style=\"text-align: right;\">\n",
       "      <th></th>\n",
       "      <th>Inches</th>\n",
       "      <th>Ram</th>\n",
       "      <th>Weight</th>\n",
       "      <th>Price</th>\n",
       "      <th>IPS</th>\n",
       "      <th>Touchscreen</th>\n",
       "      <th>X_res</th>\n",
       "      <th>Y_res</th>\n",
       "      <th>Layer1SSD</th>\n",
       "      <th>Layer2Hybrid</th>\n",
       "      <th>...</th>\n",
       "      <th>cpu name_Intel Core i5</th>\n",
       "      <th>cpu name_Intel Core i7</th>\n",
       "      <th>cpu name_Intel Pentium Dual</th>\n",
       "      <th>cpu name_Intel Pentium Quad</th>\n",
       "      <th>cpu name_Intel Xeon E3-1505M</th>\n",
       "      <th>cpu name_Intel Xeon E3-1535M</th>\n",
       "      <th>cpu name_Samsung Cortex A72&amp;A53</th>\n",
       "      <th>Gpu Name_ARM</th>\n",
       "      <th>Gpu Name_Intel</th>\n",
       "      <th>Gpu Name_Nvidia</th>\n",
       "    </tr>\n",
       "  </thead>\n",
       "  <tbody>\n",
       "    <tr>\n",
       "      <th>0</th>\n",
       "      <td>13.3</td>\n",
       "      <td>8</td>\n",
       "      <td>1.37</td>\n",
       "      <td>71378.6832</td>\n",
       "      <td>1</td>\n",
       "      <td>0</td>\n",
       "      <td>2560</td>\n",
       "      <td>1600</td>\n",
       "      <td>1</td>\n",
       "      <td>0</td>\n",
       "      <td>...</td>\n",
       "      <td>1</td>\n",
       "      <td>0</td>\n",
       "      <td>0</td>\n",
       "      <td>0</td>\n",
       "      <td>0</td>\n",
       "      <td>0</td>\n",
       "      <td>0</td>\n",
       "      <td>0</td>\n",
       "      <td>1</td>\n",
       "      <td>0</td>\n",
       "    </tr>\n",
       "    <tr>\n",
       "      <th>1</th>\n",
       "      <td>13.3</td>\n",
       "      <td>8</td>\n",
       "      <td>1.34</td>\n",
       "      <td>47895.5232</td>\n",
       "      <td>0</td>\n",
       "      <td>0</td>\n",
       "      <td>1440</td>\n",
       "      <td>900</td>\n",
       "      <td>0</td>\n",
       "      <td>0</td>\n",
       "      <td>...</td>\n",
       "      <td>1</td>\n",
       "      <td>0</td>\n",
       "      <td>0</td>\n",
       "      <td>0</td>\n",
       "      <td>0</td>\n",
       "      <td>0</td>\n",
       "      <td>0</td>\n",
       "      <td>0</td>\n",
       "      <td>1</td>\n",
       "      <td>0</td>\n",
       "    </tr>\n",
       "    <tr>\n",
       "      <th>2</th>\n",
       "      <td>15.6</td>\n",
       "      <td>8</td>\n",
       "      <td>1.86</td>\n",
       "      <td>30636.0000</td>\n",
       "      <td>0</td>\n",
       "      <td>0</td>\n",
       "      <td>1920</td>\n",
       "      <td>1080</td>\n",
       "      <td>1</td>\n",
       "      <td>0</td>\n",
       "      <td>...</td>\n",
       "      <td>1</td>\n",
       "      <td>0</td>\n",
       "      <td>0</td>\n",
       "      <td>0</td>\n",
       "      <td>0</td>\n",
       "      <td>0</td>\n",
       "      <td>0</td>\n",
       "      <td>0</td>\n",
       "      <td>1</td>\n",
       "      <td>0</td>\n",
       "    </tr>\n",
       "    <tr>\n",
       "      <th>3</th>\n",
       "      <td>15.4</td>\n",
       "      <td>16</td>\n",
       "      <td>1.83</td>\n",
       "      <td>135195.3360</td>\n",
       "      <td>1</td>\n",
       "      <td>0</td>\n",
       "      <td>2880</td>\n",
       "      <td>1800</td>\n",
       "      <td>1</td>\n",
       "      <td>0</td>\n",
       "      <td>...</td>\n",
       "      <td>0</td>\n",
       "      <td>1</td>\n",
       "      <td>0</td>\n",
       "      <td>0</td>\n",
       "      <td>0</td>\n",
       "      <td>0</td>\n",
       "      <td>0</td>\n",
       "      <td>0</td>\n",
       "      <td>0</td>\n",
       "      <td>0</td>\n",
       "    </tr>\n",
       "    <tr>\n",
       "      <th>4</th>\n",
       "      <td>13.3</td>\n",
       "      <td>8</td>\n",
       "      <td>1.37</td>\n",
       "      <td>96095.8080</td>\n",
       "      <td>1</td>\n",
       "      <td>0</td>\n",
       "      <td>2560</td>\n",
       "      <td>1600</td>\n",
       "      <td>1</td>\n",
       "      <td>0</td>\n",
       "      <td>...</td>\n",
       "      <td>1</td>\n",
       "      <td>0</td>\n",
       "      <td>0</td>\n",
       "      <td>0</td>\n",
       "      <td>0</td>\n",
       "      <td>0</td>\n",
       "      <td>0</td>\n",
       "      <td>0</td>\n",
       "      <td>1</td>\n",
       "      <td>0</td>\n",
       "    </tr>\n",
       "    <tr>\n",
       "      <th>...</th>\n",
       "      <td>...</td>\n",
       "      <td>...</td>\n",
       "      <td>...</td>\n",
       "      <td>...</td>\n",
       "      <td>...</td>\n",
       "      <td>...</td>\n",
       "      <td>...</td>\n",
       "      <td>...</td>\n",
       "      <td>...</td>\n",
       "      <td>...</td>\n",
       "      <td>...</td>\n",
       "      <td>...</td>\n",
       "      <td>...</td>\n",
       "      <td>...</td>\n",
       "      <td>...</td>\n",
       "      <td>...</td>\n",
       "      <td>...</td>\n",
       "      <td>...</td>\n",
       "      <td>...</td>\n",
       "      <td>...</td>\n",
       "      <td>...</td>\n",
       "    </tr>\n",
       "    <tr>\n",
       "      <th>1298</th>\n",
       "      <td>14.0</td>\n",
       "      <td>4</td>\n",
       "      <td>1.80</td>\n",
       "      <td>33992.6400</td>\n",
       "      <td>1</td>\n",
       "      <td>1</td>\n",
       "      <td>1920</td>\n",
       "      <td>1080</td>\n",
       "      <td>1</td>\n",
       "      <td>0</td>\n",
       "      <td>...</td>\n",
       "      <td>0</td>\n",
       "      <td>1</td>\n",
       "      <td>0</td>\n",
       "      <td>0</td>\n",
       "      <td>0</td>\n",
       "      <td>0</td>\n",
       "      <td>0</td>\n",
       "      <td>0</td>\n",
       "      <td>1</td>\n",
       "      <td>0</td>\n",
       "    </tr>\n",
       "    <tr>\n",
       "      <th>1299</th>\n",
       "      <td>13.3</td>\n",
       "      <td>16</td>\n",
       "      <td>1.30</td>\n",
       "      <td>79866.7200</td>\n",
       "      <td>1</td>\n",
       "      <td>1</td>\n",
       "      <td>3200</td>\n",
       "      <td>1800</td>\n",
       "      <td>1</td>\n",
       "      <td>0</td>\n",
       "      <td>...</td>\n",
       "      <td>0</td>\n",
       "      <td>1</td>\n",
       "      <td>0</td>\n",
       "      <td>0</td>\n",
       "      <td>0</td>\n",
       "      <td>0</td>\n",
       "      <td>0</td>\n",
       "      <td>0</td>\n",
       "      <td>1</td>\n",
       "      <td>0</td>\n",
       "    </tr>\n",
       "    <tr>\n",
       "      <th>1300</th>\n",
       "      <td>14.0</td>\n",
       "      <td>2</td>\n",
       "      <td>1.50</td>\n",
       "      <td>12201.1200</td>\n",
       "      <td>0</td>\n",
       "      <td>0</td>\n",
       "      <td>1366</td>\n",
       "      <td>768</td>\n",
       "      <td>0</td>\n",
       "      <td>0</td>\n",
       "      <td>...</td>\n",
       "      <td>0</td>\n",
       "      <td>0</td>\n",
       "      <td>0</td>\n",
       "      <td>0</td>\n",
       "      <td>0</td>\n",
       "      <td>0</td>\n",
       "      <td>0</td>\n",
       "      <td>0</td>\n",
       "      <td>1</td>\n",
       "      <td>0</td>\n",
       "    </tr>\n",
       "    <tr>\n",
       "      <th>1301</th>\n",
       "      <td>15.6</td>\n",
       "      <td>6</td>\n",
       "      <td>2.19</td>\n",
       "      <td>40705.9200</td>\n",
       "      <td>0</td>\n",
       "      <td>0</td>\n",
       "      <td>1366</td>\n",
       "      <td>768</td>\n",
       "      <td>0</td>\n",
       "      <td>0</td>\n",
       "      <td>...</td>\n",
       "      <td>0</td>\n",
       "      <td>1</td>\n",
       "      <td>0</td>\n",
       "      <td>0</td>\n",
       "      <td>0</td>\n",
       "      <td>0</td>\n",
       "      <td>0</td>\n",
       "      <td>0</td>\n",
       "      <td>0</td>\n",
       "      <td>0</td>\n",
       "    </tr>\n",
       "    <tr>\n",
       "      <th>1302</th>\n",
       "      <td>15.6</td>\n",
       "      <td>4</td>\n",
       "      <td>2.20</td>\n",
       "      <td>19660.3200</td>\n",
       "      <td>0</td>\n",
       "      <td>0</td>\n",
       "      <td>1366</td>\n",
       "      <td>768</td>\n",
       "      <td>0</td>\n",
       "      <td>0</td>\n",
       "      <td>...</td>\n",
       "      <td>0</td>\n",
       "      <td>0</td>\n",
       "      <td>0</td>\n",
       "      <td>0</td>\n",
       "      <td>0</td>\n",
       "      <td>0</td>\n",
       "      <td>0</td>\n",
       "      <td>0</td>\n",
       "      <td>1</td>\n",
       "      <td>0</td>\n",
       "    </tr>\n",
       "  </tbody>\n",
       "</table>\n",
       "<p>1303 rows × 234 columns</p>\n",
       "</div>"
      ],
      "text/plain": [
       "      Inches  Ram  Weight        Price  IPS  Touchscreen  X_res  Y_res  \\\n",
       "0       13.3    8    1.37   71378.6832    1            0   2560   1600   \n",
       "1       13.3    8    1.34   47895.5232    0            0   1440    900   \n",
       "2       15.6    8    1.86   30636.0000    0            0   1920   1080   \n",
       "3       15.4   16    1.83  135195.3360    1            0   2880   1800   \n",
       "4       13.3    8    1.37   96095.8080    1            0   2560   1600   \n",
       "...      ...  ...     ...          ...  ...          ...    ...    ...   \n",
       "1298    14.0    4    1.80   33992.6400    1            1   1920   1080   \n",
       "1299    13.3   16    1.30   79866.7200    1            1   3200   1800   \n",
       "1300    14.0    2    1.50   12201.1200    0            0   1366    768   \n",
       "1301    15.6    6    2.19   40705.9200    0            0   1366    768   \n",
       "1302    15.6    4    2.20   19660.3200    0            0   1366    768   \n",
       "\n",
       "      Layer1SSD  Layer2Hybrid  ...  cpu name_Intel Core i5  \\\n",
       "0             1             0  ...                       1   \n",
       "1             0             0  ...                       1   \n",
       "2             1             0  ...                       1   \n",
       "3             1             0  ...                       0   \n",
       "4             1             0  ...                       1   \n",
       "...         ...           ...  ...                     ...   \n",
       "1298          1             0  ...                       0   \n",
       "1299          1             0  ...                       0   \n",
       "1300          0             0  ...                       0   \n",
       "1301          0             0  ...                       0   \n",
       "1302          0             0  ...                       0   \n",
       "\n",
       "      cpu name_Intel Core i7  cpu name_Intel Pentium Dual  \\\n",
       "0                          0                            0   \n",
       "1                          0                            0   \n",
       "2                          0                            0   \n",
       "3                          1                            0   \n",
       "4                          0                            0   \n",
       "...                      ...                          ...   \n",
       "1298                       1                            0   \n",
       "1299                       1                            0   \n",
       "1300                       0                            0   \n",
       "1301                       1                            0   \n",
       "1302                       0                            0   \n",
       "\n",
       "      cpu name_Intel Pentium Quad  cpu name_Intel Xeon E3-1505M  \\\n",
       "0                               0                             0   \n",
       "1                               0                             0   \n",
       "2                               0                             0   \n",
       "3                               0                             0   \n",
       "4                               0                             0   \n",
       "...                           ...                           ...   \n",
       "1298                            0                             0   \n",
       "1299                            0                             0   \n",
       "1300                            0                             0   \n",
       "1301                            0                             0   \n",
       "1302                            0                             0   \n",
       "\n",
       "      cpu name_Intel Xeon E3-1535M  cpu name_Samsung Cortex A72&A53  \\\n",
       "0                                0                                0   \n",
       "1                                0                                0   \n",
       "2                                0                                0   \n",
       "3                                0                                0   \n",
       "4                                0                                0   \n",
       "...                            ...                              ...   \n",
       "1298                             0                                0   \n",
       "1299                             0                                0   \n",
       "1300                             0                                0   \n",
       "1301                             0                                0   \n",
       "1302                             0                                0   \n",
       "\n",
       "      Gpu Name_ARM  Gpu Name_Intel  Gpu Name_Nvidia  \n",
       "0                0               1                0  \n",
       "1                0               1                0  \n",
       "2                0               1                0  \n",
       "3                0               0                0  \n",
       "4                0               1                0  \n",
       "...            ...             ...              ...  \n",
       "1298             0               1                0  \n",
       "1299             0               1                0  \n",
       "1300             0               1                0  \n",
       "1301             0               0                0  \n",
       "1302             0               1                0  \n",
       "\n",
       "[1303 rows x 234 columns]"
      ]
     },
     "execution_count": 95,
     "metadata": {},
     "output_type": "execute_result"
    }
   ],
   "source": [
    "data"
   ]
  },
  {
   "cell_type": "code",
   "execution_count": 166,
   "id": "0fd136c0",
   "metadata": {},
   "outputs": [],
   "source": [
    "X = data.drop(columns=['Price'])\n",
    "y = np.log(data['Price'])"
   ]
  },
  {
   "cell_type": "code",
   "execution_count": 167,
   "id": "11d4ee42",
   "metadata": {},
   "outputs": [
    {
     "data": {
      "text/html": [
       "<div>\n",
       "<style scoped>\n",
       "    .dataframe tbody tr th:only-of-type {\n",
       "        vertical-align: middle;\n",
       "    }\n",
       "\n",
       "    .dataframe tbody tr th {\n",
       "        vertical-align: top;\n",
       "    }\n",
       "\n",
       "    .dataframe thead th {\n",
       "        text-align: right;\n",
       "    }\n",
       "</style>\n",
       "<table border=\"1\" class=\"dataframe\">\n",
       "  <thead>\n",
       "    <tr style=\"text-align: right;\">\n",
       "      <th></th>\n",
       "      <th>Inches</th>\n",
       "      <th>Ram</th>\n",
       "      <th>Weight</th>\n",
       "      <th>IPS</th>\n",
       "      <th>Touchscreen</th>\n",
       "      <th>X_res</th>\n",
       "      <th>Y_res</th>\n",
       "      <th>Layer1SSD</th>\n",
       "      <th>Layer2Hybrid</th>\n",
       "      <th>SSD</th>\n",
       "      <th>...</th>\n",
       "      <th>cpu name_Intel Core i5</th>\n",
       "      <th>cpu name_Intel Core i7</th>\n",
       "      <th>cpu name_Intel Pentium Dual</th>\n",
       "      <th>cpu name_Intel Pentium Quad</th>\n",
       "      <th>cpu name_Intel Xeon E3-1505M</th>\n",
       "      <th>cpu name_Intel Xeon E3-1535M</th>\n",
       "      <th>cpu name_Samsung Cortex A72&amp;A53</th>\n",
       "      <th>Gpu Name_ARM</th>\n",
       "      <th>Gpu Name_Intel</th>\n",
       "      <th>Gpu Name_Nvidia</th>\n",
       "    </tr>\n",
       "  </thead>\n",
       "  <tbody>\n",
       "    <tr>\n",
       "      <th>0</th>\n",
       "      <td>13.3</td>\n",
       "      <td>8</td>\n",
       "      <td>1.37</td>\n",
       "      <td>1</td>\n",
       "      <td>0</td>\n",
       "      <td>2560</td>\n",
       "      <td>1600</td>\n",
       "      <td>1</td>\n",
       "      <td>0</td>\n",
       "      <td>128</td>\n",
       "      <td>...</td>\n",
       "      <td>1</td>\n",
       "      <td>0</td>\n",
       "      <td>0</td>\n",
       "      <td>0</td>\n",
       "      <td>0</td>\n",
       "      <td>0</td>\n",
       "      <td>0</td>\n",
       "      <td>0</td>\n",
       "      <td>1</td>\n",
       "      <td>0</td>\n",
       "    </tr>\n",
       "    <tr>\n",
       "      <th>1</th>\n",
       "      <td>13.3</td>\n",
       "      <td>8</td>\n",
       "      <td>1.34</td>\n",
       "      <td>0</td>\n",
       "      <td>0</td>\n",
       "      <td>1440</td>\n",
       "      <td>900</td>\n",
       "      <td>0</td>\n",
       "      <td>0</td>\n",
       "      <td>0</td>\n",
       "      <td>...</td>\n",
       "      <td>1</td>\n",
       "      <td>0</td>\n",
       "      <td>0</td>\n",
       "      <td>0</td>\n",
       "      <td>0</td>\n",
       "      <td>0</td>\n",
       "      <td>0</td>\n",
       "      <td>0</td>\n",
       "      <td>1</td>\n",
       "      <td>0</td>\n",
       "    </tr>\n",
       "    <tr>\n",
       "      <th>2</th>\n",
       "      <td>15.6</td>\n",
       "      <td>8</td>\n",
       "      <td>1.86</td>\n",
       "      <td>0</td>\n",
       "      <td>0</td>\n",
       "      <td>1920</td>\n",
       "      <td>1080</td>\n",
       "      <td>1</td>\n",
       "      <td>0</td>\n",
       "      <td>256</td>\n",
       "      <td>...</td>\n",
       "      <td>1</td>\n",
       "      <td>0</td>\n",
       "      <td>0</td>\n",
       "      <td>0</td>\n",
       "      <td>0</td>\n",
       "      <td>0</td>\n",
       "      <td>0</td>\n",
       "      <td>0</td>\n",
       "      <td>1</td>\n",
       "      <td>0</td>\n",
       "    </tr>\n",
       "    <tr>\n",
       "      <th>3</th>\n",
       "      <td>15.4</td>\n",
       "      <td>16</td>\n",
       "      <td>1.83</td>\n",
       "      <td>1</td>\n",
       "      <td>0</td>\n",
       "      <td>2880</td>\n",
       "      <td>1800</td>\n",
       "      <td>1</td>\n",
       "      <td>0</td>\n",
       "      <td>512</td>\n",
       "      <td>...</td>\n",
       "      <td>0</td>\n",
       "      <td>1</td>\n",
       "      <td>0</td>\n",
       "      <td>0</td>\n",
       "      <td>0</td>\n",
       "      <td>0</td>\n",
       "      <td>0</td>\n",
       "      <td>0</td>\n",
       "      <td>0</td>\n",
       "      <td>0</td>\n",
       "    </tr>\n",
       "    <tr>\n",
       "      <th>4</th>\n",
       "      <td>13.3</td>\n",
       "      <td>8</td>\n",
       "      <td>1.37</td>\n",
       "      <td>1</td>\n",
       "      <td>0</td>\n",
       "      <td>2560</td>\n",
       "      <td>1600</td>\n",
       "      <td>1</td>\n",
       "      <td>0</td>\n",
       "      <td>256</td>\n",
       "      <td>...</td>\n",
       "      <td>1</td>\n",
       "      <td>0</td>\n",
       "      <td>0</td>\n",
       "      <td>0</td>\n",
       "      <td>0</td>\n",
       "      <td>0</td>\n",
       "      <td>0</td>\n",
       "      <td>0</td>\n",
       "      <td>1</td>\n",
       "      <td>0</td>\n",
       "    </tr>\n",
       "    <tr>\n",
       "      <th>...</th>\n",
       "      <td>...</td>\n",
       "      <td>...</td>\n",
       "      <td>...</td>\n",
       "      <td>...</td>\n",
       "      <td>...</td>\n",
       "      <td>...</td>\n",
       "      <td>...</td>\n",
       "      <td>...</td>\n",
       "      <td>...</td>\n",
       "      <td>...</td>\n",
       "      <td>...</td>\n",
       "      <td>...</td>\n",
       "      <td>...</td>\n",
       "      <td>...</td>\n",
       "      <td>...</td>\n",
       "      <td>...</td>\n",
       "      <td>...</td>\n",
       "      <td>...</td>\n",
       "      <td>...</td>\n",
       "      <td>...</td>\n",
       "      <td>...</td>\n",
       "    </tr>\n",
       "    <tr>\n",
       "      <th>1298</th>\n",
       "      <td>14.0</td>\n",
       "      <td>4</td>\n",
       "      <td>1.80</td>\n",
       "      <td>1</td>\n",
       "      <td>1</td>\n",
       "      <td>1920</td>\n",
       "      <td>1080</td>\n",
       "      <td>1</td>\n",
       "      <td>0</td>\n",
       "      <td>128</td>\n",
       "      <td>...</td>\n",
       "      <td>0</td>\n",
       "      <td>1</td>\n",
       "      <td>0</td>\n",
       "      <td>0</td>\n",
       "      <td>0</td>\n",
       "      <td>0</td>\n",
       "      <td>0</td>\n",
       "      <td>0</td>\n",
       "      <td>1</td>\n",
       "      <td>0</td>\n",
       "    </tr>\n",
       "    <tr>\n",
       "      <th>1299</th>\n",
       "      <td>13.3</td>\n",
       "      <td>16</td>\n",
       "      <td>1.30</td>\n",
       "      <td>1</td>\n",
       "      <td>1</td>\n",
       "      <td>3200</td>\n",
       "      <td>1800</td>\n",
       "      <td>1</td>\n",
       "      <td>0</td>\n",
       "      <td>512</td>\n",
       "      <td>...</td>\n",
       "      <td>0</td>\n",
       "      <td>1</td>\n",
       "      <td>0</td>\n",
       "      <td>0</td>\n",
       "      <td>0</td>\n",
       "      <td>0</td>\n",
       "      <td>0</td>\n",
       "      <td>0</td>\n",
       "      <td>1</td>\n",
       "      <td>0</td>\n",
       "    </tr>\n",
       "    <tr>\n",
       "      <th>1300</th>\n",
       "      <td>14.0</td>\n",
       "      <td>2</td>\n",
       "      <td>1.50</td>\n",
       "      <td>0</td>\n",
       "      <td>0</td>\n",
       "      <td>1366</td>\n",
       "      <td>768</td>\n",
       "      <td>0</td>\n",
       "      <td>0</td>\n",
       "      <td>0</td>\n",
       "      <td>...</td>\n",
       "      <td>0</td>\n",
       "      <td>0</td>\n",
       "      <td>0</td>\n",
       "      <td>0</td>\n",
       "      <td>0</td>\n",
       "      <td>0</td>\n",
       "      <td>0</td>\n",
       "      <td>0</td>\n",
       "      <td>1</td>\n",
       "      <td>0</td>\n",
       "    </tr>\n",
       "    <tr>\n",
       "      <th>1301</th>\n",
       "      <td>15.6</td>\n",
       "      <td>6</td>\n",
       "      <td>2.19</td>\n",
       "      <td>0</td>\n",
       "      <td>0</td>\n",
       "      <td>1366</td>\n",
       "      <td>768</td>\n",
       "      <td>0</td>\n",
       "      <td>0</td>\n",
       "      <td>0</td>\n",
       "      <td>...</td>\n",
       "      <td>0</td>\n",
       "      <td>1</td>\n",
       "      <td>0</td>\n",
       "      <td>0</td>\n",
       "      <td>0</td>\n",
       "      <td>0</td>\n",
       "      <td>0</td>\n",
       "      <td>0</td>\n",
       "      <td>0</td>\n",
       "      <td>0</td>\n",
       "    </tr>\n",
       "    <tr>\n",
       "      <th>1302</th>\n",
       "      <td>15.6</td>\n",
       "      <td>4</td>\n",
       "      <td>2.20</td>\n",
       "      <td>0</td>\n",
       "      <td>0</td>\n",
       "      <td>1366</td>\n",
       "      <td>768</td>\n",
       "      <td>0</td>\n",
       "      <td>0</td>\n",
       "      <td>0</td>\n",
       "      <td>...</td>\n",
       "      <td>0</td>\n",
       "      <td>0</td>\n",
       "      <td>0</td>\n",
       "      <td>0</td>\n",
       "      <td>0</td>\n",
       "      <td>0</td>\n",
       "      <td>0</td>\n",
       "      <td>0</td>\n",
       "      <td>1</td>\n",
       "      <td>0</td>\n",
       "    </tr>\n",
       "  </tbody>\n",
       "</table>\n",
       "<p>1303 rows × 233 columns</p>\n",
       "</div>"
      ],
      "text/plain": [
       "      Inches  Ram  Weight  IPS  Touchscreen  X_res  Y_res  Layer1SSD  \\\n",
       "0       13.3    8    1.37    1            0   2560   1600          1   \n",
       "1       13.3    8    1.34    0            0   1440    900          0   \n",
       "2       15.6    8    1.86    0            0   1920   1080          1   \n",
       "3       15.4   16    1.83    1            0   2880   1800          1   \n",
       "4       13.3    8    1.37    1            0   2560   1600          1   \n",
       "...      ...  ...     ...  ...          ...    ...    ...        ...   \n",
       "1298    14.0    4    1.80    1            1   1920   1080          1   \n",
       "1299    13.3   16    1.30    1            1   3200   1800          1   \n",
       "1300    14.0    2    1.50    0            0   1366    768          0   \n",
       "1301    15.6    6    2.19    0            0   1366    768          0   \n",
       "1302    15.6    4    2.20    0            0   1366    768          0   \n",
       "\n",
       "      Layer2Hybrid  SSD  ...  cpu name_Intel Core i5  cpu name_Intel Core i7  \\\n",
       "0                0  128  ...                       1                       0   \n",
       "1                0    0  ...                       1                       0   \n",
       "2                0  256  ...                       1                       0   \n",
       "3                0  512  ...                       0                       1   \n",
       "4                0  256  ...                       1                       0   \n",
       "...            ...  ...  ...                     ...                     ...   \n",
       "1298             0  128  ...                       0                       1   \n",
       "1299             0  512  ...                       0                       1   \n",
       "1300             0    0  ...                       0                       0   \n",
       "1301             0    0  ...                       0                       1   \n",
       "1302             0    0  ...                       0                       0   \n",
       "\n",
       "      cpu name_Intel Pentium Dual  cpu name_Intel Pentium Quad  \\\n",
       "0                               0                            0   \n",
       "1                               0                            0   \n",
       "2                               0                            0   \n",
       "3                               0                            0   \n",
       "4                               0                            0   \n",
       "...                           ...                          ...   \n",
       "1298                            0                            0   \n",
       "1299                            0                            0   \n",
       "1300                            0                            0   \n",
       "1301                            0                            0   \n",
       "1302                            0                            0   \n",
       "\n",
       "      cpu name_Intel Xeon E3-1505M  cpu name_Intel Xeon E3-1535M  \\\n",
       "0                                0                             0   \n",
       "1                                0                             0   \n",
       "2                                0                             0   \n",
       "3                                0                             0   \n",
       "4                                0                             0   \n",
       "...                            ...                           ...   \n",
       "1298                             0                             0   \n",
       "1299                             0                             0   \n",
       "1300                             0                             0   \n",
       "1301                             0                             0   \n",
       "1302                             0                             0   \n",
       "\n",
       "      cpu name_Samsung Cortex A72&A53  Gpu Name_ARM  Gpu Name_Intel  \\\n",
       "0                                   0             0               1   \n",
       "1                                   0             0               1   \n",
       "2                                   0             0               1   \n",
       "3                                   0             0               0   \n",
       "4                                   0             0               1   \n",
       "...                               ...           ...             ...   \n",
       "1298                                0             0               1   \n",
       "1299                                0             0               1   \n",
       "1300                                0             0               1   \n",
       "1301                                0             0               0   \n",
       "1302                                0             0               1   \n",
       "\n",
       "      Gpu Name_Nvidia  \n",
       "0                   0  \n",
       "1                   0  \n",
       "2                   0  \n",
       "3                   0  \n",
       "4                   0  \n",
       "...               ...  \n",
       "1298                0  \n",
       "1299                0  \n",
       "1300                0  \n",
       "1301                0  \n",
       "1302                0  \n",
       "\n",
       "[1303 rows x 233 columns]"
      ]
     },
     "execution_count": 167,
     "metadata": {},
     "output_type": "execute_result"
    }
   ],
   "source": [
    "X"
   ]
  },
  {
   "cell_type": "code",
   "execution_count": 168,
   "id": "bf4aa38d",
   "metadata": {},
   "outputs": [
    {
     "data": {
      "text/plain": [
       "0       11.175755\n",
       "1       10.776777\n",
       "2       10.329931\n",
       "3       11.814476\n",
       "4       11.473101\n",
       "          ...    \n",
       "1298    10.433899\n",
       "1299    11.288115\n",
       "1300     9.409283\n",
       "1301    10.614129\n",
       "1302     9.886358\n",
       "Name: Price, Length: 1303, dtype: float64"
      ]
     },
     "execution_count": 168,
     "metadata": {},
     "output_type": "execute_result"
    }
   ],
   "source": [
    "y"
   ]
  },
  {
   "cell_type": "code",
   "execution_count": 169,
   "id": "ed972bfd",
   "metadata": {},
   "outputs": [],
   "source": [
    "from sklearn.model_selection import train_test_split\n",
    "X_train,X_test,y_train,y_test = train_test_split(X,y,test_size=0.20,random_state=0)"
   ]
  },
  {
   "cell_type": "code",
   "execution_count": 170,
   "id": "2c30b0a4",
   "metadata": {},
   "outputs": [
    {
     "data": {
      "text/html": [
       "<div>\n",
       "<style scoped>\n",
       "    .dataframe tbody tr th:only-of-type {\n",
       "        vertical-align: middle;\n",
       "    }\n",
       "\n",
       "    .dataframe tbody tr th {\n",
       "        vertical-align: top;\n",
       "    }\n",
       "\n",
       "    .dataframe thead th {\n",
       "        text-align: right;\n",
       "    }\n",
       "</style>\n",
       "<table border=\"1\" class=\"dataframe\">\n",
       "  <thead>\n",
       "    <tr style=\"text-align: right;\">\n",
       "      <th></th>\n",
       "      <th>Inches</th>\n",
       "      <th>Ram</th>\n",
       "      <th>Weight</th>\n",
       "      <th>IPS</th>\n",
       "      <th>Touchscreen</th>\n",
       "      <th>X_res</th>\n",
       "      <th>Y_res</th>\n",
       "      <th>Layer1SSD</th>\n",
       "      <th>Layer2Hybrid</th>\n",
       "      <th>SSD</th>\n",
       "      <th>...</th>\n",
       "      <th>cpu name_Intel Core i5</th>\n",
       "      <th>cpu name_Intel Core i7</th>\n",
       "      <th>cpu name_Intel Pentium Dual</th>\n",
       "      <th>cpu name_Intel Pentium Quad</th>\n",
       "      <th>cpu name_Intel Xeon E3-1505M</th>\n",
       "      <th>cpu name_Intel Xeon E3-1535M</th>\n",
       "      <th>cpu name_Samsung Cortex A72&amp;A53</th>\n",
       "      <th>Gpu Name_ARM</th>\n",
       "      <th>Gpu Name_Intel</th>\n",
       "      <th>Gpu Name_Nvidia</th>\n",
       "    </tr>\n",
       "  </thead>\n",
       "  <tbody>\n",
       "    <tr>\n",
       "      <th>1249</th>\n",
       "      <td>13.3</td>\n",
       "      <td>8</td>\n",
       "      <td>1.24</td>\n",
       "      <td>0</td>\n",
       "      <td>1</td>\n",
       "      <td>3200</td>\n",
       "      <td>1800</td>\n",
       "      <td>1</td>\n",
       "      <td>0</td>\n",
       "      <td>256</td>\n",
       "      <td>...</td>\n",
       "      <td>1</td>\n",
       "      <td>0</td>\n",
       "      <td>0</td>\n",
       "      <td>0</td>\n",
       "      <td>0</td>\n",
       "      <td>0</td>\n",
       "      <td>0</td>\n",
       "      <td>0</td>\n",
       "      <td>1</td>\n",
       "      <td>0</td>\n",
       "    </tr>\n",
       "    <tr>\n",
       "      <th>1186</th>\n",
       "      <td>15.6</td>\n",
       "      <td>16</td>\n",
       "      <td>2.09</td>\n",
       "      <td>0</td>\n",
       "      <td>1</td>\n",
       "      <td>1920</td>\n",
       "      <td>1080</td>\n",
       "      <td>1</td>\n",
       "      <td>0</td>\n",
       "      <td>512</td>\n",
       "      <td>...</td>\n",
       "      <td>0</td>\n",
       "      <td>1</td>\n",
       "      <td>0</td>\n",
       "      <td>0</td>\n",
       "      <td>0</td>\n",
       "      <td>0</td>\n",
       "      <td>0</td>\n",
       "      <td>0</td>\n",
       "      <td>1</td>\n",
       "      <td>0</td>\n",
       "    </tr>\n",
       "    <tr>\n",
       "      <th>568</th>\n",
       "      <td>15.6</td>\n",
       "      <td>4</td>\n",
       "      <td>2.20</td>\n",
       "      <td>0</td>\n",
       "      <td>0</td>\n",
       "      <td>1920</td>\n",
       "      <td>1080</td>\n",
       "      <td>0</td>\n",
       "      <td>0</td>\n",
       "      <td>0</td>\n",
       "      <td>...</td>\n",
       "      <td>0</td>\n",
       "      <td>0</td>\n",
       "      <td>0</td>\n",
       "      <td>1</td>\n",
       "      <td>0</td>\n",
       "      <td>0</td>\n",
       "      <td>0</td>\n",
       "      <td>0</td>\n",
       "      <td>1</td>\n",
       "      <td>0</td>\n",
       "    </tr>\n",
       "    <tr>\n",
       "      <th>1251</th>\n",
       "      <td>15.6</td>\n",
       "      <td>4</td>\n",
       "      <td>1.86</td>\n",
       "      <td>0</td>\n",
       "      <td>0</td>\n",
       "      <td>1366</td>\n",
       "      <td>768</td>\n",
       "      <td>0</td>\n",
       "      <td>0</td>\n",
       "      <td>0</td>\n",
       "      <td>...</td>\n",
       "      <td>0</td>\n",
       "      <td>0</td>\n",
       "      <td>0</td>\n",
       "      <td>0</td>\n",
       "      <td>0</td>\n",
       "      <td>0</td>\n",
       "      <td>0</td>\n",
       "      <td>0</td>\n",
       "      <td>0</td>\n",
       "      <td>0</td>\n",
       "    </tr>\n",
       "    <tr>\n",
       "      <th>491</th>\n",
       "      <td>13.3</td>\n",
       "      <td>32</td>\n",
       "      <td>1.05</td>\n",
       "      <td>0</td>\n",
       "      <td>1</td>\n",
       "      <td>1920</td>\n",
       "      <td>1080</td>\n",
       "      <td>1</td>\n",
       "      <td>0</td>\n",
       "      <td>512</td>\n",
       "      <td>...</td>\n",
       "      <td>0</td>\n",
       "      <td>1</td>\n",
       "      <td>0</td>\n",
       "      <td>0</td>\n",
       "      <td>0</td>\n",
       "      <td>0</td>\n",
       "      <td>0</td>\n",
       "      <td>0</td>\n",
       "      <td>1</td>\n",
       "      <td>0</td>\n",
       "    </tr>\n",
       "    <tr>\n",
       "      <th>...</th>\n",
       "      <td>...</td>\n",
       "      <td>...</td>\n",
       "      <td>...</td>\n",
       "      <td>...</td>\n",
       "      <td>...</td>\n",
       "      <td>...</td>\n",
       "      <td>...</td>\n",
       "      <td>...</td>\n",
       "      <td>...</td>\n",
       "      <td>...</td>\n",
       "      <td>...</td>\n",
       "      <td>...</td>\n",
       "      <td>...</td>\n",
       "      <td>...</td>\n",
       "      <td>...</td>\n",
       "      <td>...</td>\n",
       "      <td>...</td>\n",
       "      <td>...</td>\n",
       "      <td>...</td>\n",
       "      <td>...</td>\n",
       "      <td>...</td>\n",
       "    </tr>\n",
       "    <tr>\n",
       "      <th>763</th>\n",
       "      <td>13.3</td>\n",
       "      <td>8</td>\n",
       "      <td>1.20</td>\n",
       "      <td>1</td>\n",
       "      <td>0</td>\n",
       "      <td>3200</td>\n",
       "      <td>1800</td>\n",
       "      <td>1</td>\n",
       "      <td>0</td>\n",
       "      <td>256</td>\n",
       "      <td>...</td>\n",
       "      <td>1</td>\n",
       "      <td>0</td>\n",
       "      <td>0</td>\n",
       "      <td>0</td>\n",
       "      <td>0</td>\n",
       "      <td>0</td>\n",
       "      <td>0</td>\n",
       "      <td>0</td>\n",
       "      <td>1</td>\n",
       "      <td>0</td>\n",
       "    </tr>\n",
       "    <tr>\n",
       "      <th>835</th>\n",
       "      <td>15.6</td>\n",
       "      <td>16</td>\n",
       "      <td>3.21</td>\n",
       "      <td>0</td>\n",
       "      <td>0</td>\n",
       "      <td>1920</td>\n",
       "      <td>1080</td>\n",
       "      <td>1</td>\n",
       "      <td>0</td>\n",
       "      <td>256</td>\n",
       "      <td>...</td>\n",
       "      <td>0</td>\n",
       "      <td>1</td>\n",
       "      <td>0</td>\n",
       "      <td>0</td>\n",
       "      <td>0</td>\n",
       "      <td>0</td>\n",
       "      <td>0</td>\n",
       "      <td>0</td>\n",
       "      <td>0</td>\n",
       "      <td>1</td>\n",
       "    </tr>\n",
       "    <tr>\n",
       "      <th>1216</th>\n",
       "      <td>17.3</td>\n",
       "      <td>4</td>\n",
       "      <td>3.30</td>\n",
       "      <td>0</td>\n",
       "      <td>0</td>\n",
       "      <td>1600</td>\n",
       "      <td>900</td>\n",
       "      <td>0</td>\n",
       "      <td>0</td>\n",
       "      <td>0</td>\n",
       "      <td>...</td>\n",
       "      <td>0</td>\n",
       "      <td>0</td>\n",
       "      <td>0</td>\n",
       "      <td>0</td>\n",
       "      <td>0</td>\n",
       "      <td>0</td>\n",
       "      <td>0</td>\n",
       "      <td>0</td>\n",
       "      <td>0</td>\n",
       "      <td>1</td>\n",
       "    </tr>\n",
       "    <tr>\n",
       "      <th>559</th>\n",
       "      <td>15.6</td>\n",
       "      <td>4</td>\n",
       "      <td>2.18</td>\n",
       "      <td>0</td>\n",
       "      <td>0</td>\n",
       "      <td>1366</td>\n",
       "      <td>768</td>\n",
       "      <td>0</td>\n",
       "      <td>0</td>\n",
       "      <td>0</td>\n",
       "      <td>...</td>\n",
       "      <td>0</td>\n",
       "      <td>0</td>\n",
       "      <td>0</td>\n",
       "      <td>0</td>\n",
       "      <td>0</td>\n",
       "      <td>0</td>\n",
       "      <td>0</td>\n",
       "      <td>0</td>\n",
       "      <td>0</td>\n",
       "      <td>0</td>\n",
       "    </tr>\n",
       "    <tr>\n",
       "      <th>684</th>\n",
       "      <td>13.3</td>\n",
       "      <td>8</td>\n",
       "      <td>1.19</td>\n",
       "      <td>1</td>\n",
       "      <td>1</td>\n",
       "      <td>1920</td>\n",
       "      <td>1080</td>\n",
       "      <td>1</td>\n",
       "      <td>0</td>\n",
       "      <td>512</td>\n",
       "      <td>...</td>\n",
       "      <td>0</td>\n",
       "      <td>1</td>\n",
       "      <td>0</td>\n",
       "      <td>0</td>\n",
       "      <td>0</td>\n",
       "      <td>0</td>\n",
       "      <td>0</td>\n",
       "      <td>0</td>\n",
       "      <td>1</td>\n",
       "      <td>0</td>\n",
       "    </tr>\n",
       "  </tbody>\n",
       "</table>\n",
       "<p>1042 rows × 233 columns</p>\n",
       "</div>"
      ],
      "text/plain": [
       "      Inches  Ram  Weight  IPS  Touchscreen  X_res  Y_res  Layer1SSD  \\\n",
       "1249    13.3    8    1.24    0            1   3200   1800          1   \n",
       "1186    15.6   16    2.09    0            1   1920   1080          1   \n",
       "568     15.6    4    2.20    0            0   1920   1080          0   \n",
       "1251    15.6    4    1.86    0            0   1366    768          0   \n",
       "491     13.3   32    1.05    0            1   1920   1080          1   \n",
       "...      ...  ...     ...  ...          ...    ...    ...        ...   \n",
       "763     13.3    8    1.20    1            0   3200   1800          1   \n",
       "835     15.6   16    3.21    0            0   1920   1080          1   \n",
       "1216    17.3    4    3.30    0            0   1600    900          0   \n",
       "559     15.6    4    2.18    0            0   1366    768          0   \n",
       "684     13.3    8    1.19    1            1   1920   1080          1   \n",
       "\n",
       "      Layer2Hybrid  SSD  ...  cpu name_Intel Core i5  cpu name_Intel Core i7  \\\n",
       "1249             0  256  ...                       1                       0   \n",
       "1186             0  512  ...                       0                       1   \n",
       "568              0    0  ...                       0                       0   \n",
       "1251             0    0  ...                       0                       0   \n",
       "491              0  512  ...                       0                       1   \n",
       "...            ...  ...  ...                     ...                     ...   \n",
       "763              0  256  ...                       1                       0   \n",
       "835              0  256  ...                       0                       1   \n",
       "1216             0    0  ...                       0                       0   \n",
       "559              0    0  ...                       0                       0   \n",
       "684              0  512  ...                       0                       1   \n",
       "\n",
       "      cpu name_Intel Pentium Dual  cpu name_Intel Pentium Quad  \\\n",
       "1249                            0                            0   \n",
       "1186                            0                            0   \n",
       "568                             0                            1   \n",
       "1251                            0                            0   \n",
       "491                             0                            0   \n",
       "...                           ...                          ...   \n",
       "763                             0                            0   \n",
       "835                             0                            0   \n",
       "1216                            0                            0   \n",
       "559                             0                            0   \n",
       "684                             0                            0   \n",
       "\n",
       "      cpu name_Intel Xeon E3-1505M  cpu name_Intel Xeon E3-1535M  \\\n",
       "1249                             0                             0   \n",
       "1186                             0                             0   \n",
       "568                              0                             0   \n",
       "1251                             0                             0   \n",
       "491                              0                             0   \n",
       "...                            ...                           ...   \n",
       "763                              0                             0   \n",
       "835                              0                             0   \n",
       "1216                             0                             0   \n",
       "559                              0                             0   \n",
       "684                              0                             0   \n",
       "\n",
       "      cpu name_Samsung Cortex A72&A53  Gpu Name_ARM  Gpu Name_Intel  \\\n",
       "1249                                0             0               1   \n",
       "1186                                0             0               1   \n",
       "568                                 0             0               1   \n",
       "1251                                0             0               0   \n",
       "491                                 0             0               1   \n",
       "...                               ...           ...             ...   \n",
       "763                                 0             0               1   \n",
       "835                                 0             0               0   \n",
       "1216                                0             0               0   \n",
       "559                                 0             0               0   \n",
       "684                                 0             0               1   \n",
       "\n",
       "      Gpu Name_Nvidia  \n",
       "1249                0  \n",
       "1186                0  \n",
       "568                 0  \n",
       "1251                0  \n",
       "491                 0  \n",
       "...               ...  \n",
       "763                 0  \n",
       "835                 1  \n",
       "1216                1  \n",
       "559                 0  \n",
       "684                 0  \n",
       "\n",
       "[1042 rows x 233 columns]"
      ]
     },
     "execution_count": 170,
     "metadata": {},
     "output_type": "execute_result"
    }
   ],
   "source": [
    "X_train"
   ]
  },
  {
   "cell_type": "code",
   "execution_count": 171,
   "id": "6480e0bb",
   "metadata": {},
   "outputs": [
    {
     "data": {
      "text/plain": [
       "1249    11.478299\n",
       "1186    11.047983\n",
       "568      9.816203\n",
       "1251     9.964522\n",
       "491     11.912579\n",
       "          ...    \n",
       "763     11.004649\n",
       "835     11.903834\n",
       "1216    10.369152\n",
       "559     10.401888\n",
       "684     11.288115\n",
       "Name: Price, Length: 1042, dtype: float64"
      ]
     },
     "execution_count": 171,
     "metadata": {},
     "output_type": "execute_result"
    }
   ],
   "source": [
    "y_train"
   ]
  },
  {
   "cell_type": "code",
   "execution_count": 225,
   "id": "e410e50f",
   "metadata": {},
   "outputs": [],
   "source": [
    "from sklearn.metrics import r2_score,mean_absolute_error\n",
    "from sklearn.linear_model import LinearRegression,Ridge,Lasso\n",
    "from sklearn.neighbors import KNeighborsRegressor\n",
    "from sklearn.tree import DecisionTreeRegressor\n",
    "from sklearn.ensemble import RandomForestRegressor,GradientBoostingRegressor,AdaBoostRegressor,ExtraTreesRegressor\n",
    "from sklearn.svm import SVR\n",
    "from xgboost import XGBRegressor"
   ]
  },
  {
   "cell_type": "markdown",
   "id": "a163529a",
   "metadata": {},
   "source": [
    "## LinearRegression"
   ]
  },
  {
   "cell_type": "code",
   "execution_count": 172,
   "id": "fed1f101",
   "metadata": {},
   "outputs": [],
   "source": [
    "lin_Reg = LinearRegression()"
   ]
  },
  {
   "cell_type": "code",
   "execution_count": 173,
   "id": "8373f5bd",
   "metadata": {},
   "outputs": [
    {
     "data": {
      "text/plain": [
       "LinearRegression()"
      ]
     },
     "execution_count": 173,
     "metadata": {},
     "output_type": "execute_result"
    }
   ],
   "source": [
    "lin_Reg.fit(X_train , y_train)"
   ]
  },
  {
   "cell_type": "code",
   "execution_count": 174,
   "id": "f706c840",
   "metadata": {},
   "outputs": [
    {
     "data": {
      "text/plain": [
       "0.8992276598698465"
      ]
     },
     "execution_count": 174,
     "metadata": {},
     "output_type": "execute_result"
    }
   ],
   "source": [
    "lin_Reg.score(X_train , y_train)"
   ]
  },
  {
   "cell_type": "code",
   "execution_count": 175,
   "id": "c5043d0d",
   "metadata": {},
   "outputs": [
    {
     "data": {
      "text/plain": [
       "array([-5.98712309e-02,  2.26398667e-02,  1.35361087e-01,  4.45876888e+07,\n",
       "        3.02393830e+06,  5.24124551e+02, -3.34184853e+04,  7.20562529e-02,\n",
       "       -1.38014268e+05,  3.37511301e-04, -6.16658388e+06,  1.25242840e-01,\n",
       "        3.01653072e-02,  1.16713179e-01,  6.95433492e-02,  1.21176383e+07,\n",
       "        1.70228654e-01, -1.12867825e+07,  4.58879626e-01,  7.65958174e-02,\n",
       "        2.99365477e-01, -1.35126112e-01,  1.05086191e+07,  5.39090164e-01,\n",
       "        2.99520265e-01,  2.67333902e-01, -2.86631579e-01,  1.09210533e-01,\n",
       "       -2.31985368e-01, -2.36435292e-01, -1.90152194e-01,  7.02278968e-02,\n",
       "        2.01514057e-01,  9.28573902e+06,  4.28859504e+06,  1.01362025e+07,\n",
       "        2.18314179e+07,  2.12329274e+07,  2.42568656e+07,  7.11226415e+06,\n",
       "        1.01362025e+07, -4.45876887e+07, -2.27562709e+07, -2.33547614e+07,\n",
       "       -2.03308232e+07, -3.74754246e+07, -4.45876887e+07, -3.44514863e+07,\n",
       "       -1.01407499e+07, -1.12598388e+07, -2.27562713e+07, -1.40849945e+07,\n",
       "       -2.27562711e+07, -1.10610565e+07, -9.42791843e+06, -5.25305215e+06,\n",
       "       -1.00158188e+07, -1.02642632e+06, -2.33547615e+07, -4.76116272e+07,\n",
       "       -1.11786931e+07, -5.10484777e+06, -2.57802092e+07,  3.05026943e+07,\n",
       "        3.35266325e+07,  2.12329265e+07,  7.11226442e+06,  3.05026943e+07,\n",
       "       -3.02393840e+06,  1.05969772e+07,  1.21206589e+07,  1.88074795e+07,\n",
       "        2.86604910e+04, -1.22135275e+02, -7.22367561e+01,  3.38705277e+03,\n",
       "        3.38705176e+03,  2.18115152e+01,  2.00509353e-02,  8.29486071e+02,\n",
       "        8.29542321e+02, -1.80837021e+03, -1.57334438e+04, -1.11847195e+02,\n",
       "        1.28390416e+04,  1.28392942e+04,  3.64227616e+03, -6.54151536e+02,\n",
       "        2.45510794e+02, -2.35968558e+02, -6.18173061e-04, -1.12863345e-05,\n",
       "       -6.78602014e+01, -5.51952300e+01,  3.49941645e+03, -1.45649611e+03,\n",
       "        1.13849237e-05, -4.67616437e+02, -3.84184486e+02, -1.01393544e+07,\n",
       "       -1.29967929e+02,  1.69052255e+03, -1.11170282e+07, -5.25315873e+04,\n",
       "       -5.25309820e+04, -5.25314438e+04, -5.25314319e+04, -5.25314481e+04,\n",
       "       -5.25314430e+04, -5.25316265e+04, -5.25312953e+04, -9.85613541e+03,\n",
       "       -9.85624641e+03, -9.85621263e+03, -2.91299426e+06, -2.91299423e+06,\n",
       "        8.48174178e+05,  8.48175288e+05,  8.48174932e+05,  8.48174417e+05,\n",
       "        8.48174763e+05, -1.69109171e-11, -1.04165565e-11,  8.48174682e+05,\n",
       "        2.74447132e-13, -5.52719653e+03, -9.93538585e-13, -5.52726344e+03,\n",
       "       -5.52746366e+03, -5.52701420e+03, -5.52719981e+03, -5.52716789e+03,\n",
       "       -3.64116097e+06,  4.63973191e+06,  4.63973196e+06, -2.23900065e-12,\n",
       "       -2.60324541e+06, -6.91705027e-12, -2.60324518e+06,  1.20008273e+05,\n",
       "        1.20008189e+05,  1.20008462e+05,  1.20008500e+05,  1.20008359e+05,\n",
       "        1.20008343e+05,  1.20008165e+05,  1.11022302e-16,  1.20008150e+05,\n",
       "        1.20008370e+05,  1.20008512e+05,  1.20008526e+05,  1.20008093e+05,\n",
       "        1.20008449e+05,  1.20008189e+05,  1.20008145e+05, -2.61373621e+05,\n",
       "       -2.61373621e+05, -2.61373573e+05, -2.61373502e+05,  1.72528712e+05,\n",
       "        1.72528245e+05,  0.00000000e+00,  1.72528435e+05,  1.72528511e+05,\n",
       "        1.72528465e+05,  1.72528653e+05,  1.72528423e+05,  1.72527558e+05,\n",
       "        1.72528302e+05,  1.72528262e+05,  1.72528518e+05,  1.72528599e+05,\n",
       "        1.72528924e+05,  1.72528595e+05,  1.72528764e+05,  1.72528755e+05,\n",
       "        1.72528441e+05,  1.72528259e+05,  1.72528183e+05,  0.00000000e+00,\n",
       "       -2.15130791e+03, -2.15163439e+03,  2.24884890e+04,  2.24883261e+04,\n",
       "        2.24883883e+04,  1.75456380e+02,  4.15639992e+02,  0.00000000e+00,\n",
       "       -5.10391941e+06,  3.26642359e+06,  3.26642378e+06, -2.86602680e+04,\n",
       "        1.22101839e+02,  7.24541897e+01, -3.38693811e+03, -2.20398765e+01,\n",
       "        0.00000000e+00, -8.29685172e+02,  1.80815215e+03,  1.57333584e+04,\n",
       "        1.11869377e+02, -1.28393816e+04, -3.64224509e+03,  6.53551291e+02,\n",
       "       -2.45835205e+02,  2.35604811e+02,  0.00000000e+00,  0.00000000e+00,\n",
       "        6.75358406e+01,  5.48120375e+01, -3.49924050e+03,  1.45674415e+03,\n",
       "        0.00000000e+00,  4.68422145e+02,  3.83585758e+02, -1.01611642e+07,\n",
       "        1.29340095e+02, -1.69113455e+03, -1.11694854e+07,  5.25310681e+04,\n",
       "        9.85599504e+03, -8.48174496e+05,  5.52727068e+03, -1.20007834e+05,\n",
       "       -1.72527851e+05,  2.15162340e+03, -2.24885108e+04, -1.74561384e+02,\n",
       "       -4.14396157e+02, -5.10391941e+06, -5.03670540e+06,  4.69647013e-02,\n",
       "        5.56848571e-03])"
      ]
     },
     "execution_count": 175,
     "metadata": {},
     "output_type": "execute_result"
    }
   ],
   "source": [
    "lin_Reg.coef_"
   ]
  },
  {
   "cell_type": "code",
   "execution_count": 236,
   "id": "9832f36b",
   "metadata": {},
   "outputs": [],
   "source": [
    "y_pred_lin_reg = lin_Reg.predict(X_test)"
   ]
  },
  {
   "cell_type": "code",
   "execution_count": 237,
   "id": "e264d5ef",
   "metadata": {},
   "outputs": [
    {
     "data": {
      "text/plain": [
       "-476589973560.6325"
      ]
     },
     "execution_count": 237,
     "metadata": {},
     "output_type": "execute_result"
    }
   ],
   "source": [
    "r2_score(y_test , y_pred)"
   ]
  },
  {
   "cell_type": "code",
   "execution_count": 238,
   "id": "5c2bcf3c",
   "metadata": {},
   "outputs": [
    {
     "name": "stdout",
     "output_type": "stream",
     "text": [
      "R2 score -476589973560.6325\n",
      "MAE 58643.019647666064\n"
     ]
    }
   ],
   "source": [
    "print('R2 score',r2_score(y_test,y_pred_lin_reg))\n",
    "print('MAE',mean_absolute_error(y_test,y_pred_lin_reg))"
   ]
  },
  {
   "cell_type": "markdown",
   "id": "72734cb9",
   "metadata": {},
   "source": [
    "## Ridge Regression"
   ]
  },
  {
   "cell_type": "code",
   "execution_count": 226,
   "id": "f3c33cd7",
   "metadata": {},
   "outputs": [],
   "source": [
    "ridge_reg = Ridge()"
   ]
  },
  {
   "cell_type": "code",
   "execution_count": 227,
   "id": "030cde4c",
   "metadata": {},
   "outputs": [
    {
     "data": {
      "text/plain": [
       "Ridge()"
      ]
     },
     "execution_count": 227,
     "metadata": {},
     "output_type": "execute_result"
    }
   ],
   "source": [
    "ridge_reg.fit(X_train,y_train)"
   ]
  },
  {
   "cell_type": "code",
   "execution_count": 228,
   "id": "f32702d2",
   "metadata": {},
   "outputs": [
    {
     "data": {
      "text/plain": [
       "0.8949028206941537"
      ]
     },
     "execution_count": 228,
     "metadata": {},
     "output_type": "execute_result"
    }
   ],
   "source": [
    "ridge_reg.score(X_train,y_train)"
   ]
  },
  {
   "cell_type": "code",
   "execution_count": 229,
   "id": "eac542b4",
   "metadata": {},
   "outputs": [],
   "source": [
    "y_pred_ridge = ridge_reg.predict(X_test)"
   ]
  },
  {
   "cell_type": "code",
   "execution_count": 230,
   "id": "9e79fa4b",
   "metadata": {},
   "outputs": [
    {
     "name": "stdout",
     "output_type": "stream",
     "text": [
      "R2 score 0.830473610458164\n",
      "MAE 0.19764983032313968\n"
     ]
    }
   ],
   "source": [
    "print('R2 score',r2_score(y_test,y_pred_ridge))\n",
    "print('MAE',mean_absolute_error(y_test,y_pred_ridge))"
   ]
  },
  {
   "cell_type": "markdown",
   "id": "db0f3a8b",
   "metadata": {},
   "source": [
    "## Lasso Regression"
   ]
  },
  {
   "cell_type": "code",
   "execution_count": 231,
   "id": "3ef516b3",
   "metadata": {},
   "outputs": [],
   "source": [
    "lasso = Lasso()"
   ]
  },
  {
   "cell_type": "code",
   "execution_count": 232,
   "id": "b3a36f9d",
   "metadata": {},
   "outputs": [
    {
     "data": {
      "text/plain": [
       "Lasso()"
      ]
     },
     "execution_count": 232,
     "metadata": {},
     "output_type": "execute_result"
    }
   ],
   "source": [
    "lasso.fit(X_train,y_train)"
   ]
  },
  {
   "cell_type": "code",
   "execution_count": 233,
   "id": "a944e78f",
   "metadata": {},
   "outputs": [
    {
     "data": {
      "text/plain": [
       "0.5060089323882215"
      ]
     },
     "execution_count": 233,
     "metadata": {},
     "output_type": "execute_result"
    }
   ],
   "source": [
    "lasso.score(X_train,y_train)"
   ]
  },
  {
   "cell_type": "code",
   "execution_count": 234,
   "id": "c71551ab",
   "metadata": {},
   "outputs": [],
   "source": [
    "y_pred_lasso = lasso.predict(X_test)"
   ]
  },
  {
   "cell_type": "code",
   "execution_count": 235,
   "id": "0509d485",
   "metadata": {},
   "outputs": [
    {
     "name": "stdout",
     "output_type": "stream",
     "text": [
      "R2 score 0.5266223401166803\n",
      "MAE 0.3438183004061574\n"
     ]
    }
   ],
   "source": [
    "print('R2 score',r2_score(y_test,y_pred_lasso))\n",
    "print('MAE',mean_absolute_error(y_test,y_pred_lasso))"
   ]
  },
  {
   "cell_type": "markdown",
   "id": "fec629a2",
   "metadata": {},
   "source": [
    "## KNeighborsRegressor"
   ]
  },
  {
   "cell_type": "code",
   "execution_count": 179,
   "id": "1e13b484",
   "metadata": {},
   "outputs": [],
   "source": [
    "knn = KNeighborsRegressor(n_neighbors=5)"
   ]
  },
  {
   "cell_type": "code",
   "execution_count": 180,
   "id": "ca9915bf",
   "metadata": {},
   "outputs": [
    {
     "data": {
      "text/plain": [
       "KNeighborsRegressor()"
      ]
     },
     "execution_count": 180,
     "metadata": {},
     "output_type": "execute_result"
    }
   ],
   "source": [
    "knn.fit(X_train , y_train)"
   ]
  },
  {
   "cell_type": "code",
   "execution_count": 181,
   "id": "924e1224",
   "metadata": {},
   "outputs": [
    {
     "data": {
      "text/plain": [
       "0.8860305277816236"
      ]
     },
     "execution_count": 181,
     "metadata": {},
     "output_type": "execute_result"
    }
   ],
   "source": [
    "knn.score(X_train , y_train)"
   ]
  },
  {
   "cell_type": "code",
   "execution_count": 182,
   "id": "539f2283",
   "metadata": {},
   "outputs": [],
   "source": [
    "y_pred_knn = knn.predict(X_test)"
   ]
  },
  {
   "cell_type": "code",
   "execution_count": 183,
   "id": "bff639f3",
   "metadata": {},
   "outputs": [
    {
     "name": "stdout",
     "output_type": "stream",
     "text": [
      "R2 score 0.8191400393374579\n",
      "MAE 0.20352684655030148\n"
     ]
    }
   ],
   "source": [
    "print('R2 score',r2_score(y_test,y_pred_knn))\n",
    "print('MAE',mean_absolute_error(y_test,y_pred_knn))"
   ]
  },
  {
   "cell_type": "markdown",
   "id": "1a9ace94",
   "metadata": {},
   "source": [
    "## DecisionTreeRegressor"
   ]
  },
  {
   "cell_type": "code",
   "execution_count": 184,
   "id": "9354a747",
   "metadata": {},
   "outputs": [],
   "source": [
    "dec_tree = DecisionTreeRegressor(max_depth=12)"
   ]
  },
  {
   "cell_type": "code",
   "execution_count": 185,
   "id": "85049fe5",
   "metadata": {},
   "outputs": [
    {
     "data": {
      "text/plain": [
       "DecisionTreeRegressor(max_depth=12)"
      ]
     },
     "execution_count": 185,
     "metadata": {},
     "output_type": "execute_result"
    }
   ],
   "source": [
    "dec_tree.fit(X_train ,y_train)"
   ]
  },
  {
   "cell_type": "code",
   "execution_count": 186,
   "id": "c6a8b616",
   "metadata": {},
   "outputs": [
    {
     "data": {
      "text/plain": [
       "0.9696359595270785"
      ]
     },
     "execution_count": 186,
     "metadata": {},
     "output_type": "execute_result"
    }
   ],
   "source": [
    "dec_tree.score(X_train ,y_train)"
   ]
  },
  {
   "cell_type": "code",
   "execution_count": 187,
   "id": "b6727e7d",
   "metadata": {},
   "outputs": [],
   "source": [
    "y_pred_dec_tree = dec_tree.predict(X_test)"
   ]
  },
  {
   "cell_type": "code",
   "execution_count": 188,
   "id": "a72ce8e0",
   "metadata": {},
   "outputs": [
    {
     "name": "stdout",
     "output_type": "stream",
     "text": [
      "R2 score 0.8023913895308514\n",
      "MAE 0.207863904985774\n"
     ]
    }
   ],
   "source": [
    "print('R2 score',r2_score(y_test,y_pred_dec_tree))\n",
    "print('MAE',mean_absolute_error(y_test,y_pred_dec_tree))"
   ]
  },
  {
   "cell_type": "markdown",
   "id": "f3da1abd",
   "metadata": {},
   "source": [
    "## AdaBoostRegressor"
   ]
  },
  {
   "cell_type": "code",
   "execution_count": 189,
   "id": "a502c81e",
   "metadata": {},
   "outputs": [],
   "source": [
    "adaboost = AdaBoostRegressor()"
   ]
  },
  {
   "cell_type": "code",
   "execution_count": 190,
   "id": "ce064991",
   "metadata": {},
   "outputs": [
    {
     "data": {
      "text/plain": [
       "AdaBoostRegressor()"
      ]
     },
     "execution_count": 190,
     "metadata": {},
     "output_type": "execute_result"
    }
   ],
   "source": [
    "adaboost.fit(X_train , y_train)"
   ]
  },
  {
   "cell_type": "code",
   "execution_count": 191,
   "id": "591d2a08",
   "metadata": {},
   "outputs": [
    {
     "data": {
      "text/plain": [
       "0.8117404730396527"
      ]
     },
     "execution_count": 191,
     "metadata": {},
     "output_type": "execute_result"
    }
   ],
   "source": [
    "adaboost.score(X_train , y_train)"
   ]
  },
  {
   "cell_type": "code",
   "execution_count": 192,
   "id": "22b3d193",
   "metadata": {},
   "outputs": [],
   "source": [
    "y_pred_adaboost = adaboost.predict(X_test)"
   ]
  },
  {
   "cell_type": "code",
   "execution_count": 193,
   "id": "b80a5234",
   "metadata": {},
   "outputs": [
    {
     "name": "stdout",
     "output_type": "stream",
     "text": [
      "R2 score 0.7845556914504169\n",
      "MAE 0.2322371136705502\n"
     ]
    }
   ],
   "source": [
    "print('R2 score',r2_score(y_test,y_pred_adaboost))\n",
    "print('MAE',mean_absolute_error(y_test,y_pred_adaboost))"
   ]
  },
  {
   "cell_type": "markdown",
   "id": "60175561",
   "metadata": {},
   "source": [
    "## RandomForestRegressor"
   ]
  },
  {
   "cell_type": "code",
   "execution_count": 194,
   "id": "2924194d",
   "metadata": {},
   "outputs": [],
   "source": [
    "random = RandomForestRegressor()"
   ]
  },
  {
   "cell_type": "code",
   "execution_count": 195,
   "id": "aba80cf6",
   "metadata": {},
   "outputs": [
    {
     "data": {
      "text/plain": [
       "RandomForestRegressor()"
      ]
     },
     "execution_count": 195,
     "metadata": {},
     "output_type": "execute_result"
    }
   ],
   "source": [
    "random.fit(X_train ,y_train)"
   ]
  },
  {
   "cell_type": "code",
   "execution_count": 196,
   "id": "f2fddb52",
   "metadata": {},
   "outputs": [
    {
     "data": {
      "text/plain": [
       "0.9830582841303984"
      ]
     },
     "execution_count": 196,
     "metadata": {},
     "output_type": "execute_result"
    }
   ],
   "source": [
    "random.score(X_train ,y_train)"
   ]
  },
  {
   "cell_type": "code",
   "execution_count": 197,
   "id": "6e3da3fb",
   "metadata": {},
   "outputs": [],
   "source": [
    "y_pred_random = random.predict(X_test)"
   ]
  },
  {
   "cell_type": "code",
   "execution_count": 198,
   "id": "7ec5dfa6",
   "metadata": {},
   "outputs": [
    {
     "name": "stdout",
     "output_type": "stream",
     "text": [
      "R2 score 0.868235335824421\n",
      "MAE 0.17208936366300523\n"
     ]
    }
   ],
   "source": [
    "print('R2 score',r2_score(y_test,y_pred_random))\n",
    "print('MAE',mean_absolute_error(y_test,y_pred_random))"
   ]
  },
  {
   "cell_type": "markdown",
   "id": "8a28b151",
   "metadata": {},
   "source": [
    "## GradientBoostingRegressor"
   ]
  },
  {
   "cell_type": "code",
   "execution_count": 199,
   "id": "4824381c",
   "metadata": {},
   "outputs": [],
   "source": [
    "gbr = GradientBoostingRegressor()"
   ]
  },
  {
   "cell_type": "code",
   "execution_count": 200,
   "id": "3e2c6e65",
   "metadata": {},
   "outputs": [
    {
     "data": {
      "text/plain": [
       "GradientBoostingRegressor()"
      ]
     },
     "execution_count": 200,
     "metadata": {},
     "output_type": "execute_result"
    }
   ],
   "source": [
    "gbr.fit(X_train,y_train)"
   ]
  },
  {
   "cell_type": "code",
   "execution_count": 201,
   "id": "78a59ec4",
   "metadata": {},
   "outputs": [],
   "source": [
    "y_pred_grb = gbr.predict(X_test)"
   ]
  },
  {
   "cell_type": "code",
   "execution_count": 202,
   "id": "e2c876f1",
   "metadata": {},
   "outputs": [
    {
     "data": {
      "text/plain": [
       "0.9110890580850863"
      ]
     },
     "execution_count": 202,
     "metadata": {},
     "output_type": "execute_result"
    }
   ],
   "source": [
    "gbr.score(X_train,y_train)"
   ]
  },
  {
   "cell_type": "code",
   "execution_count": 203,
   "id": "30e4af85",
   "metadata": {},
   "outputs": [
    {
     "name": "stdout",
     "output_type": "stream",
     "text": [
      "R2 score 0.8462444153615861\n",
      "MAE 0.18832978521140367\n"
     ]
    }
   ],
   "source": [
    "print('R2 score',r2_score(y_test,y_pred_grb))\n",
    "print('MAE',mean_absolute_error(y_test,y_pred_grb))"
   ]
  },
  {
   "cell_type": "markdown",
   "id": "1ce81014",
   "metadata": {},
   "source": [
    "## ExtraTreesRegressor"
   ]
  },
  {
   "cell_type": "code",
   "execution_count": 204,
   "id": "38cbea67",
   "metadata": {},
   "outputs": [],
   "source": [
    "etr = ExtraTreesRegressor()"
   ]
  },
  {
   "cell_type": "code",
   "execution_count": 205,
   "id": "e7222021",
   "metadata": {},
   "outputs": [
    {
     "data": {
      "text/plain": [
       "ExtraTreesRegressor()"
      ]
     },
     "execution_count": 205,
     "metadata": {},
     "output_type": "execute_result"
    }
   ],
   "source": [
    "etr.fit(X_train,y_train)"
   ]
  },
  {
   "cell_type": "code",
   "execution_count": 206,
   "id": "91b9af0c",
   "metadata": {},
   "outputs": [],
   "source": [
    "y_pred_etr = etr.predict(X_test)"
   ]
  },
  {
   "cell_type": "code",
   "execution_count": 207,
   "id": "6de0f55c",
   "metadata": {},
   "outputs": [
    {
     "data": {
      "text/plain": [
       "0.9978728002454502"
      ]
     },
     "execution_count": 207,
     "metadata": {},
     "output_type": "execute_result"
    }
   ],
   "source": [
    "etr.score(X_train,y_train)"
   ]
  },
  {
   "cell_type": "code",
   "execution_count": 208,
   "id": "f7ba8063",
   "metadata": {},
   "outputs": [
    {
     "name": "stdout",
     "output_type": "stream",
     "text": [
      "R2 score 0.8421339587718852\n",
      "MAE 0.18290302613141013\n"
     ]
    }
   ],
   "source": [
    "print('R2 score',r2_score(y_test,y_pred_etr))\n",
    "print('MAE',mean_absolute_error(y_test,y_pred_etr))"
   ]
  },
  {
   "cell_type": "markdown",
   "id": "c2c11a2b",
   "metadata": {},
   "source": [
    "## XGBRegressor"
   ]
  },
  {
   "cell_type": "code",
   "execution_count": 209,
   "id": "67b3c4b8",
   "metadata": {},
   "outputs": [],
   "source": [
    "xgb = XGBRegressor()"
   ]
  },
  {
   "cell_type": "code",
   "execution_count": 210,
   "id": "8bdb5585",
   "metadata": {},
   "outputs": [
    {
     "data": {
      "text/plain": [
       "XGBRegressor(base_score=0.5, booster='gbtree', colsample_bylevel=1,\n",
       "             colsample_bynode=1, colsample_bytree=1, gamma=0, gpu_id=-1,\n",
       "             importance_type='gain', interaction_constraints='',\n",
       "             learning_rate=0.300000012, max_delta_step=0, max_depth=6,\n",
       "             min_child_weight=1, missing=nan, monotone_constraints='()',\n",
       "             n_estimators=100, n_jobs=4, num_parallel_tree=1, random_state=0,\n",
       "             reg_alpha=0, reg_lambda=1, scale_pos_weight=1, subsample=1,\n",
       "             tree_method='exact', validate_parameters=1, verbosity=None)"
      ]
     },
     "execution_count": 210,
     "metadata": {},
     "output_type": "execute_result"
    }
   ],
   "source": [
    "xgb.fit(X_train,y_train)"
   ]
  },
  {
   "cell_type": "code",
   "execution_count": 217,
   "id": "7d9881e6",
   "metadata": {},
   "outputs": [],
   "source": [
    "y_pred_xgb = xgb.predict(X_test)"
   ]
  },
  {
   "cell_type": "code",
   "execution_count": 218,
   "id": "bd890f8b",
   "metadata": {},
   "outputs": [
    {
     "data": {
      "text/plain": [
       "0.9801901288219493"
      ]
     },
     "execution_count": 218,
     "metadata": {},
     "output_type": "execute_result"
    }
   ],
   "source": [
    "xgb.score(X_train,y_train)"
   ]
  },
  {
   "cell_type": "code",
   "execution_count": 219,
   "id": "d02c430a",
   "metadata": {},
   "outputs": [
    {
     "name": "stdout",
     "output_type": "stream",
     "text": [
      "R2 score 0.8764639413879001\n",
      "MAE 0.1609455299966823\n"
     ]
    }
   ],
   "source": [
    "print('R2 score',r2_score(y_test,y_pred_xgb))\n",
    "print('MAE',mean_absolute_error(y_test,y_pred_xgb))"
   ]
  },
  {
   "cell_type": "markdown",
   "id": "5af49fc2",
   "metadata": {},
   "source": [
    "## SVR"
   ]
  },
  {
   "cell_type": "code",
   "execution_count": 220,
   "id": "892f4d2d",
   "metadata": {},
   "outputs": [],
   "source": [
    "svr = SVR()"
   ]
  },
  {
   "cell_type": "code",
   "execution_count": 221,
   "id": "f4b01297",
   "metadata": {},
   "outputs": [
    {
     "data": {
      "text/plain": [
       "SVR()"
      ]
     },
     "execution_count": 221,
     "metadata": {},
     "output_type": "execute_result"
    }
   ],
   "source": [
    "svr.fit(X_train,y_train)"
   ]
  },
  {
   "cell_type": "code",
   "execution_count": 222,
   "id": "ded626a6",
   "metadata": {},
   "outputs": [
    {
     "data": {
      "text/plain": [
       "0.4878148193082187"
      ]
     },
     "execution_count": 222,
     "metadata": {},
     "output_type": "execute_result"
    }
   ],
   "source": [
    "svr.score(X_train,y_train)"
   ]
  },
  {
   "cell_type": "code",
   "execution_count": 223,
   "id": "f4afee16",
   "metadata": {},
   "outputs": [],
   "source": [
    "y_pred_Svr = svr.predict(X_test)"
   ]
  },
  {
   "cell_type": "code",
   "execution_count": 224,
   "id": "22f99379",
   "metadata": {},
   "outputs": [
    {
     "name": "stdout",
     "output_type": "stream",
     "text": [
      "R2 score 0.5142894083176193\n",
      "MAE 0.3492040507998707\n"
     ]
    }
   ],
   "source": [
    "print('R2 score',r2_score(y_test,y_pred_Svr))\n",
    "print('MAE',mean_absolute_error(y_test,y_pred_Svr))"
   ]
  },
  {
   "cell_type": "markdown",
   "id": "d75142dc",
   "metadata": {},
   "source": [
    "## Exporting the Model\n"
   ]
  },
  {
   "cell_type": "code",
   "execution_count": 241,
   "id": "4d73b843",
   "metadata": {},
   "outputs": [],
   "source": [
    "import pickle\n",
    "filename = 'finalized_model.sav'"
   ]
  },
  {
   "cell_type": "code",
   "execution_count": 243,
   "id": "0f188550",
   "metadata": {},
   "outputs": [],
   "source": [
    "# save scr model \n",
    "pickle.dump(svr, open(filename, 'wb'))"
   ]
  },
  {
   "cell_type": "code",
   "execution_count": 244,
   "id": "b767d1a0",
   "metadata": {},
   "outputs": [],
   "source": [
    "loaded_model = pickle.load(open(filename, 'rb'))"
   ]
  }
 ],
 "metadata": {
  "kernelspec": {
   "display_name": "Python 3",
   "language": "python",
   "name": "python3"
  },
  "language_info": {
   "codemirror_mode": {
    "name": "ipython",
    "version": 3
   },
   "file_extension": ".py",
   "mimetype": "text/x-python",
   "name": "python",
   "nbconvert_exporter": "python",
   "pygments_lexer": "ipython3",
   "version": "3.8.8"
  }
 },
 "nbformat": 4,
 "nbformat_minor": 5
}
